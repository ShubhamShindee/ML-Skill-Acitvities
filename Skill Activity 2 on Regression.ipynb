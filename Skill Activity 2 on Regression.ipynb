{
 "cells": [
  {
   "cell_type": "markdown",
   "metadata": {},
   "source": [
    "##                                                       SKILL ACTIVITY NO: 2\n",
    "\n",
    "    Date:23/07/2021\n",
    "    Name:Shubham Machhindra Shinde\n",
    "    PRN:71830521D\n",
    "    gmail id:shubhamshinde291298@gmail.com\n",
    "    School: School of Data Science\n",
    "    Program: Machine Learning\n",
    "    Batch: ML12\n",
    "    Module Name: Regression Analysis \n",
    "    Module Code: ML1102/ML1202\n",
    "\n",
    "#### Title: \n",
    "Perform Regression on the Toyota Corolla Data Set.\n",
    "\n",
    "#### Problem Statement:\n",
    "Prepare a prediction model for profit of Corolla data.Do transformations if needed for getting better predictions of price and make a table containing R^2 value for each prepared model.\n",
    "\n",
    "#### Skills/Competencies to be acquired:\n",
    "To gain an understanding of data , find clues from the data,How to play with data.\n",
    "\n",
    "To check the quality of data for further processing and cleaning if necessary.\n",
    "\n",
    "To check for anomalies or outliers that may impact model.\n",
    "\n",
    "Model Training on different regression models with different different combinations.\n",
    "\n",
    "Learned how to represent Final Evaluation for better understanding.\n",
    "\n",
    "\n",
    "\n",
    "#### 1.What is the purpose of this activity?\n",
    "\n",
    "    1)Preview data.\n",
    "    2)Check total number of entries and column types.\n",
    "    3)Check any null values.\n",
    "    4)Check duplicate entries.\n",
    "    5)Check and remove outliers.\n",
    "    6)Splitting data\n",
    "    7)Perform different regression models for getting better prediction of price and get best accuracy that is r2 score.\n",
    "\n",
    "\n",
    "#### 2.Steps performed in this activity.\n",
    "\n",
    "    1)Checking data information.\n",
    "    2)Checking Missing values,duplicate values,outliers.\n",
    "    3)Implementation of Linear Regression\n",
    "    4)Implementation of Polynomial Regression.\n",
    "    5)Implementation of Ridge Regression.\n",
    "    6)Implementation of Lasso Regression.\n",
    "    7)Implementation of ElasticNetCV.\n",
    "    8)Final Evaluation.\n",
    "    9)Conclusion.\n",
    "\n",
    "#### 3.What resources / materials / equipment / tools did you use for this activity?\n",
    "    \n",
    "    1)Anaconda Jupyter Notebook\n",
    "    2)Some previous Study Material for reference.\n",
    "    \n",
    "\n",
    "#### 4.What skills did you acquire?\n",
    "    \n",
    "    1)How to play with data.\n",
    "    2)How to train data on different regression models.\n",
    "    3)How to handle Outliers,missing values,Duplicate values.\n",
    "    4)Final Evaluation representation.\n",
    "\n",
    "#### 5.Time taken to complete the activity?\n",
    "3 to 4 hrs.\n",
    "    "
   ]
  },
  {
   "cell_type": "markdown",
   "metadata": {},
   "source": [
    "\n",
    "Consider only the below columns and prepare a prediction model for predicting Price.\n",
    "Corolla<-\n",
    "Corolla[c(\"Price\",\"Age_08_04\",\"KM\",\"HP\",\"cc\",\"Doors\",\"Gears\",\"Quarterly_Tax\",\"Weight\")]\n",
    "\n",
    "#### Attribute information\n",
    "    Model -- model of the car\n",
    "    Price -- Offer Price in EUROs\n",
    "    Age_08_04 -- Age in months as in August 2004\n",
    "    Mfg_Month -- Manufacturing month (1-12)\n",
    "    Mfg_Year -- Manufacturing Year\n",
    "    KM -- Accumulated Kilometers on odometer\n",
    "    Fuel_Type -- Fuel Type (Petrol, Diesel, CNG)\n",
    "    HP -- Horse Power\n",
    "    Met_Color -- Metallic Color? (Yes=1, No=0)\n",
    "    Color -- Color (Blue, Red, Grey, Silver, Black, etc.)\n",
    "    Automatic -- Automatic ( (Yes=1, No=0)\n",
    "    cc -- Cylinder Volume in cubic centimeters\n",
    "    Doors -- Number of doors\n",
    "    Cylinders -- Number of cylinders\n",
    "    Gears -- Number of gear positions\n",
    "    Quarterly_Tax -- Quarterly road tax in EUROs\n",
    "    Weight -- Weight in Kilograms\n",
    "    Mfr_Guarantee -- Within Manufacturer's Guarantee period (Yes=1, No=0)\n",
    "    BOVAG_Guarantee -- BOVAG (Dutch dealer network) Guarantee (Yes=1, No=0)\n",
    "    Guarantee_Period -- Guarantee period in months\n",
    "    ABS -- Anti-Lock Brake System (Yes=1, No=0)\n",
    "    Airbag_1 -- Driver_Airbag (Yes=1, No=0)\n",
    "    Airbag_2 -- Passenger Airbag (Yes=1, No=0)\n",
    "    Airco -- Airconditioning (Yes=1, No=0)\n",
    "    Automatic_airco -- Automatic Airconditioning (Yes=1, No=0)\n",
    "    Boardcomputer -- Boardcomputer (Yes=1, No=0)\n",
    "    CD_Player -- CD Player (Yes=1, No=0)\n",
    "    Central_Lock -- Central Lock (Yes=1, No=0)\n",
    "    Powered_Windows -- Powered Windows (Yes=1, No=0)\n",
    "    Power_Steering -- Power Steering (Yes=1, No=0)\n",
    "    Radio -- Radio (Yes=1, No=0)\n",
    "    Mistlamps -- Mistlamps (Yes=1, No=0)\n",
    "    Sport_Model -- Sport Model (Yes=1, No=0)\n",
    "    Backseat_Divider -- Backseat Divider (Yes=1, No=0)\n",
    "    Metallic_Rim --Metallic Rim (Yes=1, No=0)\n",
    "    Radio_cassette -- Radio Cassette (Yes=1, No=0)\n",
    "    Tow_Bar -- Tow Bar (Yes=1, No=0)"
   ]
  },
  {
   "cell_type": "code",
   "execution_count": 1,
   "metadata": {},
   "outputs": [],
   "source": [
    "## Importing Initial Libraries\n",
    "\n",
    "import pandas as pd\n",
    "import numpy as np\n",
    "import matplotlib.pyplot as plt\n",
    "import seaborn as sns\n",
    "import warnings\n",
    "warnings.filterwarnings(\"ignore\")"
   ]
  },
  {
   "cell_type": "code",
   "execution_count": 2,
   "metadata": {},
   "outputs": [
    {
     "data": {
      "text/html": [
       "<div>\n",
       "<style scoped>\n",
       "    .dataframe tbody tr th:only-of-type {\n",
       "        vertical-align: middle;\n",
       "    }\n",
       "\n",
       "    .dataframe tbody tr th {\n",
       "        vertical-align: top;\n",
       "    }\n",
       "\n",
       "    .dataframe thead th {\n",
       "        text-align: right;\n",
       "    }\n",
       "</style>\n",
       "<table border=\"1\" class=\"dataframe\">\n",
       "  <thead>\n",
       "    <tr style=\"text-align: right;\">\n",
       "      <th></th>\n",
       "      <th>Id</th>\n",
       "      <th>Model</th>\n",
       "      <th>Price</th>\n",
       "      <th>Age_08_04</th>\n",
       "      <th>Mfg_Month</th>\n",
       "      <th>Mfg_Year</th>\n",
       "      <th>KM</th>\n",
       "      <th>Fuel_Type</th>\n",
       "      <th>HP</th>\n",
       "      <th>Met_Color</th>\n",
       "      <th>...</th>\n",
       "      <th>Central_Lock</th>\n",
       "      <th>Powered_Windows</th>\n",
       "      <th>Power_Steering</th>\n",
       "      <th>Radio</th>\n",
       "      <th>Mistlamps</th>\n",
       "      <th>Sport_Model</th>\n",
       "      <th>Backseat_Divider</th>\n",
       "      <th>Metallic_Rim</th>\n",
       "      <th>Radio_cassette</th>\n",
       "      <th>Tow_Bar</th>\n",
       "    </tr>\n",
       "  </thead>\n",
       "  <tbody>\n",
       "    <tr>\n",
       "      <th>0</th>\n",
       "      <td>1</td>\n",
       "      <td>TOYOTA Corolla 2.0 D4D HATCHB TERRA 2/3-Doors</td>\n",
       "      <td>13500</td>\n",
       "      <td>23</td>\n",
       "      <td>10</td>\n",
       "      <td>2002</td>\n",
       "      <td>46986</td>\n",
       "      <td>Diesel</td>\n",
       "      <td>90</td>\n",
       "      <td>1</td>\n",
       "      <td>...</td>\n",
       "      <td>1</td>\n",
       "      <td>1</td>\n",
       "      <td>1</td>\n",
       "      <td>0</td>\n",
       "      <td>0</td>\n",
       "      <td>0</td>\n",
       "      <td>1</td>\n",
       "      <td>0</td>\n",
       "      <td>0</td>\n",
       "      <td>0</td>\n",
       "    </tr>\n",
       "    <tr>\n",
       "      <th>1</th>\n",
       "      <td>2</td>\n",
       "      <td>TOYOTA Corolla 2.0 D4D HATCHB TERRA 2/3-Doors</td>\n",
       "      <td>13750</td>\n",
       "      <td>23</td>\n",
       "      <td>10</td>\n",
       "      <td>2002</td>\n",
       "      <td>72937</td>\n",
       "      <td>Diesel</td>\n",
       "      <td>90</td>\n",
       "      <td>1</td>\n",
       "      <td>...</td>\n",
       "      <td>1</td>\n",
       "      <td>0</td>\n",
       "      <td>1</td>\n",
       "      <td>0</td>\n",
       "      <td>0</td>\n",
       "      <td>0</td>\n",
       "      <td>1</td>\n",
       "      <td>0</td>\n",
       "      <td>0</td>\n",
       "      <td>0</td>\n",
       "    </tr>\n",
       "    <tr>\n",
       "      <th>2</th>\n",
       "      <td>3</td>\n",
       "      <td>?TOYOTA Corolla 2.0 D4D HATCHB TERRA 2/3-Doors</td>\n",
       "      <td>13950</td>\n",
       "      <td>24</td>\n",
       "      <td>9</td>\n",
       "      <td>2002</td>\n",
       "      <td>41711</td>\n",
       "      <td>Diesel</td>\n",
       "      <td>90</td>\n",
       "      <td>1</td>\n",
       "      <td>...</td>\n",
       "      <td>0</td>\n",
       "      <td>0</td>\n",
       "      <td>1</td>\n",
       "      <td>0</td>\n",
       "      <td>0</td>\n",
       "      <td>0</td>\n",
       "      <td>1</td>\n",
       "      <td>0</td>\n",
       "      <td>0</td>\n",
       "      <td>0</td>\n",
       "    </tr>\n",
       "    <tr>\n",
       "      <th>3</th>\n",
       "      <td>4</td>\n",
       "      <td>TOYOTA Corolla 2.0 D4D HATCHB TERRA 2/3-Doors</td>\n",
       "      <td>14950</td>\n",
       "      <td>26</td>\n",
       "      <td>7</td>\n",
       "      <td>2002</td>\n",
       "      <td>48000</td>\n",
       "      <td>Diesel</td>\n",
       "      <td>90</td>\n",
       "      <td>0</td>\n",
       "      <td>...</td>\n",
       "      <td>0</td>\n",
       "      <td>0</td>\n",
       "      <td>1</td>\n",
       "      <td>0</td>\n",
       "      <td>0</td>\n",
       "      <td>0</td>\n",
       "      <td>1</td>\n",
       "      <td>0</td>\n",
       "      <td>0</td>\n",
       "      <td>0</td>\n",
       "    </tr>\n",
       "    <tr>\n",
       "      <th>4</th>\n",
       "      <td>5</td>\n",
       "      <td>TOYOTA Corolla 2.0 D4D HATCHB SOL 2/3-Doors</td>\n",
       "      <td>13750</td>\n",
       "      <td>30</td>\n",
       "      <td>3</td>\n",
       "      <td>2002</td>\n",
       "      <td>38500</td>\n",
       "      <td>Diesel</td>\n",
       "      <td>90</td>\n",
       "      <td>0</td>\n",
       "      <td>...</td>\n",
       "      <td>1</td>\n",
       "      <td>1</td>\n",
       "      <td>1</td>\n",
       "      <td>0</td>\n",
       "      <td>1</td>\n",
       "      <td>0</td>\n",
       "      <td>1</td>\n",
       "      <td>0</td>\n",
       "      <td>0</td>\n",
       "      <td>0</td>\n",
       "    </tr>\n",
       "  </tbody>\n",
       "</table>\n",
       "<p>5 rows × 37 columns</p>\n",
       "</div>"
      ],
      "text/plain": [
       "   Id                                           Model  Price  Age_08_04  \\\n",
       "0   1   TOYOTA Corolla 2.0 D4D HATCHB TERRA 2/3-Doors  13500         23   \n",
       "1   2   TOYOTA Corolla 2.0 D4D HATCHB TERRA 2/3-Doors  13750         23   \n",
       "2   3  ?TOYOTA Corolla 2.0 D4D HATCHB TERRA 2/3-Doors  13950         24   \n",
       "3   4   TOYOTA Corolla 2.0 D4D HATCHB TERRA 2/3-Doors  14950         26   \n",
       "4   5     TOYOTA Corolla 2.0 D4D HATCHB SOL 2/3-Doors  13750         30   \n",
       "\n",
       "   Mfg_Month  Mfg_Year     KM Fuel_Type  HP  Met_Color  ...  Central_Lock  \\\n",
       "0         10      2002  46986    Diesel  90          1  ...             1   \n",
       "1         10      2002  72937    Diesel  90          1  ...             1   \n",
       "2          9      2002  41711    Diesel  90          1  ...             0   \n",
       "3          7      2002  48000    Diesel  90          0  ...             0   \n",
       "4          3      2002  38500    Diesel  90          0  ...             1   \n",
       "\n",
       "   Powered_Windows  Power_Steering  Radio  Mistlamps  Sport_Model  \\\n",
       "0                1               1      0          0            0   \n",
       "1                0               1      0          0            0   \n",
       "2                0               1      0          0            0   \n",
       "3                0               1      0          0            0   \n",
       "4                1               1      0          1            0   \n",
       "\n",
       "   Backseat_Divider  Metallic_Rim  Radio_cassette  Tow_Bar  \n",
       "0                 1             0               0        0  \n",
       "1                 1             0               0        0  \n",
       "2                 1             0               0        0  \n",
       "3                 1             0               0        0  \n",
       "4                 1             0               0        0  \n",
       "\n",
       "[5 rows x 37 columns]"
      ]
     },
     "execution_count": 2,
     "metadata": {},
     "output_type": "execute_result"
    }
   ],
   "source": [
    "## Imporing dataset file\n",
    "df=pd.read_csv('S:\\ML\\Datasets\\Skills Activtiy 2\\ToyotaCorolla.csv')\n",
    "df.head()"
   ]
  },
  {
   "cell_type": "markdown",
   "metadata": {},
   "source": [
    "### Columns Information\n",
    "\n",
    "    Model -- model of the car\n",
    "    Price -- Offer Price in EUROs\n",
    "    Age_08_04 -- Age in months as in August 2004\n",
    "    Mfg_Month -- Manufacturing month (1-12)\n",
    "    Mfg_Year -- Manufacturing Year\n",
    "    KM -- Accumulated Kilometers on odometer\n",
    "    Fuel_Type -- Fuel Type (Petrol, Diesel, CNG)\n",
    "    HP -- Horse Power\n",
    "    Met_Color -- Metallic Color? (Yes=1, No=0)\n",
    "    Color -- Color (Blue, Red, Grey, Silver, Black, etc.)\n",
    "    Automatic -- Automatic ( (Yes=1, No=0)\n",
    "    cc -- Cylinder Volume in cubic centimeters\n",
    "    Doors -- Number of doors\n",
    "    Cylinders -- Number of cylinders\n",
    "    Gears -- Number of gear positions\n",
    "    Quarterly_Tax -- Quarterly road tax in EUROs\n",
    "    Weight -- Weight in Kilograms\n",
    "    Mfr_Guarantee -- Within Manufacturer's Guarantee period (Yes=1, No=0)\n",
    "    BOVAG_Guarantee -- BOVAG (Dutch dealer network) Guarantee (Yes=1, No=0)\n",
    "    Guarantee_Period -- Guarantee period in months\n",
    "    ABS -- Anti-Lock Brake System (Yes=1, No=0)\n",
    "    Airbag_1 -- Driver_Airbag (Yes=1, No=0)\n",
    "    Airbag_2 -- Passenger Airbag (Yes=1, No=0)\n",
    "    Airco -- Airconditioning (Yes=1, No=0)\n",
    "    Automatic_airco -- Automatic Airconditioning (Yes=1, No=0)\n",
    "    Boardcomputer -- Boardcomputer (Yes=1, No=0)\n",
    "    CD_Player -- CD Player (Yes=1, No=0)\n",
    "    Central_Lock -- Central Lock (Yes=1, No=0)\n",
    "    Powered_Windows -- Powered Windows (Yes=1, No=0)\n",
    "    Power_Steering -- Power Steering (Yes=1, No=0)\n",
    "    Radio -- Radio (Yes=1, No=0)\n",
    "    Mistlamps -- Mistlamps (Yes=1, No=0)\n",
    "    Sport_Model -- Sport Model (Yes=1, No=0)\n",
    "    Backseat_Divider -- Backseat Divider (Yes=1, No=0)\n",
    "    Metallic_Rim --Metallic Rim (Yes=1, No=0)\n",
    "    Radio_cassette -- Radio Cassette (Yes=1, No=0)\n",
    "    Tow_Bar -- Tow Bar (Yes=1, No=0)"
   ]
  },
  {
   "cell_type": "markdown",
   "metadata": {},
   "source": [
    "### Checking Dataset Information"
   ]
  },
  {
   "cell_type": "code",
   "execution_count": 3,
   "metadata": {},
   "outputs": [
    {
     "data": {
      "text/plain": [
       "(1436, 37)"
      ]
     },
     "execution_count": 3,
     "metadata": {},
     "output_type": "execute_result"
    }
   ],
   "source": [
    "## Checking Shape of dataset\n",
    "df.shape"
   ]
  },
  {
   "cell_type": "code",
   "execution_count": 4,
   "metadata": {},
   "outputs": [
    {
     "name": "stdout",
     "output_type": "stream",
     "text": [
      "<class 'pandas.core.frame.DataFrame'>\n",
      "RangeIndex: 1436 entries, 0 to 1435\n",
      "Data columns (total 37 columns):\n",
      " #   Column            Non-Null Count  Dtype \n",
      "---  ------            --------------  ----- \n",
      " 0   Id                1436 non-null   int64 \n",
      " 1   Model             1436 non-null   object\n",
      " 2   Price             1436 non-null   int64 \n",
      " 3   Age_08_04         1436 non-null   int64 \n",
      " 4   Mfg_Month         1436 non-null   int64 \n",
      " 5   Mfg_Year          1436 non-null   int64 \n",
      " 6   KM                1436 non-null   int64 \n",
      " 7   Fuel_Type         1436 non-null   object\n",
      " 8   HP                1436 non-null   int64 \n",
      " 9   Met_Color         1436 non-null   int64 \n",
      " 10  Automatic         1436 non-null   int64 \n",
      " 11  cc                1436 non-null   int64 \n",
      " 12  Doors             1436 non-null   int64 \n",
      " 13  Cylinders         1436 non-null   int64 \n",
      " 14  Gears             1436 non-null   int64 \n",
      " 15  Quarterly_Tax     1436 non-null   int64 \n",
      " 16  Weight            1436 non-null   int64 \n",
      " 17  Mfr_Guarantee     1436 non-null   int64 \n",
      " 18  BOVAG_Guarantee   1436 non-null   int64 \n",
      " 19  Guarantee_Period  1436 non-null   int64 \n",
      " 20  ABS               1436 non-null   int64 \n",
      " 21  Airbag_1          1436 non-null   int64 \n",
      " 22  Airbag_2          1436 non-null   int64 \n",
      " 23  Airco             1436 non-null   int64 \n",
      " 24  Automatic_airco   1436 non-null   int64 \n",
      " 25  Boardcomputer     1436 non-null   int64 \n",
      " 26  CD_Player         1436 non-null   int64 \n",
      " 27  Central_Lock      1436 non-null   int64 \n",
      " 28  Powered_Windows   1436 non-null   int64 \n",
      " 29  Power_Steering    1436 non-null   int64 \n",
      " 30  Radio             1436 non-null   int64 \n",
      " 31  Mistlamps         1436 non-null   int64 \n",
      " 32  Sport_Model       1436 non-null   int64 \n",
      " 33  Backseat_Divider  1436 non-null   int64 \n",
      " 34  Metallic_Rim      1436 non-null   int64 \n",
      " 35  Radio_cassette    1436 non-null   int64 \n",
      " 36  Tow_Bar           1436 non-null   int64 \n",
      "dtypes: int64(35), object(2)\n",
      "memory usage: 415.2+ KB\n"
     ]
    }
   ],
   "source": [
    "## Checking data info \n",
    "df.info()"
   ]
  },
  {
   "cell_type": "code",
   "execution_count": 5,
   "metadata": {},
   "outputs": [
    {
     "data": {
      "text/plain": [
       "Id                   int64\n",
       "Model               object\n",
       "Price                int64\n",
       "Age_08_04            int64\n",
       "Mfg_Month            int64\n",
       "Mfg_Year             int64\n",
       "KM                   int64\n",
       "Fuel_Type           object\n",
       "HP                   int64\n",
       "Met_Color            int64\n",
       "Automatic            int64\n",
       "cc                   int64\n",
       "Doors                int64\n",
       "Cylinders            int64\n",
       "Gears                int64\n",
       "Quarterly_Tax        int64\n",
       "Weight               int64\n",
       "Mfr_Guarantee        int64\n",
       "BOVAG_Guarantee      int64\n",
       "Guarantee_Period     int64\n",
       "ABS                  int64\n",
       "Airbag_1             int64\n",
       "Airbag_2             int64\n",
       "Airco                int64\n",
       "Automatic_airco      int64\n",
       "Boardcomputer        int64\n",
       "CD_Player            int64\n",
       "Central_Lock         int64\n",
       "Powered_Windows      int64\n",
       "Power_Steering       int64\n",
       "Radio                int64\n",
       "Mistlamps            int64\n",
       "Sport_Model          int64\n",
       "Backseat_Divider     int64\n",
       "Metallic_Rim         int64\n",
       "Radio_cassette       int64\n",
       "Tow_Bar              int64\n",
       "dtype: object"
      ]
     },
     "execution_count": 5,
     "metadata": {},
     "output_type": "execute_result"
    }
   ],
   "source": [
    "## Checking Data type\n",
    "df.dtypes"
   ]
  },
  {
   "cell_type": "markdown",
   "metadata": {},
   "source": [
    "Except 'Model and Fuel Type' rest of all columns are integer type.Model and fuel type are object/categorical type."
   ]
  },
  {
   "cell_type": "code",
   "execution_count": 6,
   "metadata": {},
   "outputs": [
    {
     "data": {
      "text/html": [
       "<div>\n",
       "<style scoped>\n",
       "    .dataframe tbody tr th:only-of-type {\n",
       "        vertical-align: middle;\n",
       "    }\n",
       "\n",
       "    .dataframe tbody tr th {\n",
       "        vertical-align: top;\n",
       "    }\n",
       "\n",
       "    .dataframe thead th {\n",
       "        text-align: right;\n",
       "    }\n",
       "</style>\n",
       "<table border=\"1\" class=\"dataframe\">\n",
       "  <thead>\n",
       "    <tr style=\"text-align: right;\">\n",
       "      <th></th>\n",
       "      <th>Id</th>\n",
       "      <th>Price</th>\n",
       "      <th>Age_08_04</th>\n",
       "      <th>Mfg_Month</th>\n",
       "      <th>Mfg_Year</th>\n",
       "      <th>KM</th>\n",
       "      <th>HP</th>\n",
       "      <th>Met_Color</th>\n",
       "      <th>Automatic</th>\n",
       "      <th>cc</th>\n",
       "      <th>...</th>\n",
       "      <th>Central_Lock</th>\n",
       "      <th>Powered_Windows</th>\n",
       "      <th>Power_Steering</th>\n",
       "      <th>Radio</th>\n",
       "      <th>Mistlamps</th>\n",
       "      <th>Sport_Model</th>\n",
       "      <th>Backseat_Divider</th>\n",
       "      <th>Metallic_Rim</th>\n",
       "      <th>Radio_cassette</th>\n",
       "      <th>Tow_Bar</th>\n",
       "    </tr>\n",
       "  </thead>\n",
       "  <tbody>\n",
       "    <tr>\n",
       "      <th>count</th>\n",
       "      <td>1436.000000</td>\n",
       "      <td>1436.000000</td>\n",
       "      <td>1436.000000</td>\n",
       "      <td>1436.000000</td>\n",
       "      <td>1436.000000</td>\n",
       "      <td>1436.000000</td>\n",
       "      <td>1436.000000</td>\n",
       "      <td>1436.000000</td>\n",
       "      <td>1436.000000</td>\n",
       "      <td>1436.00000</td>\n",
       "      <td>...</td>\n",
       "      <td>1436.000000</td>\n",
       "      <td>1436.000000</td>\n",
       "      <td>1436.000000</td>\n",
       "      <td>1436.000000</td>\n",
       "      <td>1436.000000</td>\n",
       "      <td>1436.000000</td>\n",
       "      <td>1436.000000</td>\n",
       "      <td>1436.000000</td>\n",
       "      <td>1436.000000</td>\n",
       "      <td>1436.000000</td>\n",
       "    </tr>\n",
       "    <tr>\n",
       "      <th>mean</th>\n",
       "      <td>721.555014</td>\n",
       "      <td>10730.824513</td>\n",
       "      <td>55.947075</td>\n",
       "      <td>5.548747</td>\n",
       "      <td>1999.625348</td>\n",
       "      <td>68533.259749</td>\n",
       "      <td>101.502089</td>\n",
       "      <td>0.674791</td>\n",
       "      <td>0.055710</td>\n",
       "      <td>1576.85585</td>\n",
       "      <td>...</td>\n",
       "      <td>0.580084</td>\n",
       "      <td>0.561978</td>\n",
       "      <td>0.977716</td>\n",
       "      <td>0.146240</td>\n",
       "      <td>0.256964</td>\n",
       "      <td>0.300139</td>\n",
       "      <td>0.770195</td>\n",
       "      <td>0.204735</td>\n",
       "      <td>0.145543</td>\n",
       "      <td>0.277855</td>\n",
       "    </tr>\n",
       "    <tr>\n",
       "      <th>std</th>\n",
       "      <td>416.476890</td>\n",
       "      <td>3626.964585</td>\n",
       "      <td>18.599988</td>\n",
       "      <td>3.354085</td>\n",
       "      <td>1.540722</td>\n",
       "      <td>37506.448872</td>\n",
       "      <td>14.981080</td>\n",
       "      <td>0.468616</td>\n",
       "      <td>0.229441</td>\n",
       "      <td>424.38677</td>\n",
       "      <td>...</td>\n",
       "      <td>0.493717</td>\n",
       "      <td>0.496317</td>\n",
       "      <td>0.147657</td>\n",
       "      <td>0.353469</td>\n",
       "      <td>0.437111</td>\n",
       "      <td>0.458478</td>\n",
       "      <td>0.420854</td>\n",
       "      <td>0.403649</td>\n",
       "      <td>0.352770</td>\n",
       "      <td>0.448098</td>\n",
       "    </tr>\n",
       "    <tr>\n",
       "      <th>min</th>\n",
       "      <td>1.000000</td>\n",
       "      <td>4350.000000</td>\n",
       "      <td>1.000000</td>\n",
       "      <td>1.000000</td>\n",
       "      <td>1998.000000</td>\n",
       "      <td>1.000000</td>\n",
       "      <td>69.000000</td>\n",
       "      <td>0.000000</td>\n",
       "      <td>0.000000</td>\n",
       "      <td>1300.00000</td>\n",
       "      <td>...</td>\n",
       "      <td>0.000000</td>\n",
       "      <td>0.000000</td>\n",
       "      <td>0.000000</td>\n",
       "      <td>0.000000</td>\n",
       "      <td>0.000000</td>\n",
       "      <td>0.000000</td>\n",
       "      <td>0.000000</td>\n",
       "      <td>0.000000</td>\n",
       "      <td>0.000000</td>\n",
       "      <td>0.000000</td>\n",
       "    </tr>\n",
       "    <tr>\n",
       "      <th>25%</th>\n",
       "      <td>361.750000</td>\n",
       "      <td>8450.000000</td>\n",
       "      <td>44.000000</td>\n",
       "      <td>3.000000</td>\n",
       "      <td>1998.000000</td>\n",
       "      <td>43000.000000</td>\n",
       "      <td>90.000000</td>\n",
       "      <td>0.000000</td>\n",
       "      <td>0.000000</td>\n",
       "      <td>1400.00000</td>\n",
       "      <td>...</td>\n",
       "      <td>0.000000</td>\n",
       "      <td>0.000000</td>\n",
       "      <td>1.000000</td>\n",
       "      <td>0.000000</td>\n",
       "      <td>0.000000</td>\n",
       "      <td>0.000000</td>\n",
       "      <td>1.000000</td>\n",
       "      <td>0.000000</td>\n",
       "      <td>0.000000</td>\n",
       "      <td>0.000000</td>\n",
       "    </tr>\n",
       "    <tr>\n",
       "      <th>50%</th>\n",
       "      <td>721.500000</td>\n",
       "      <td>9900.000000</td>\n",
       "      <td>61.000000</td>\n",
       "      <td>5.000000</td>\n",
       "      <td>1999.000000</td>\n",
       "      <td>63389.500000</td>\n",
       "      <td>110.000000</td>\n",
       "      <td>1.000000</td>\n",
       "      <td>0.000000</td>\n",
       "      <td>1600.00000</td>\n",
       "      <td>...</td>\n",
       "      <td>1.000000</td>\n",
       "      <td>1.000000</td>\n",
       "      <td>1.000000</td>\n",
       "      <td>0.000000</td>\n",
       "      <td>0.000000</td>\n",
       "      <td>0.000000</td>\n",
       "      <td>1.000000</td>\n",
       "      <td>0.000000</td>\n",
       "      <td>0.000000</td>\n",
       "      <td>0.000000</td>\n",
       "    </tr>\n",
       "    <tr>\n",
       "      <th>75%</th>\n",
       "      <td>1081.250000</td>\n",
       "      <td>11950.000000</td>\n",
       "      <td>70.000000</td>\n",
       "      <td>8.000000</td>\n",
       "      <td>2001.000000</td>\n",
       "      <td>87020.750000</td>\n",
       "      <td>110.000000</td>\n",
       "      <td>1.000000</td>\n",
       "      <td>0.000000</td>\n",
       "      <td>1600.00000</td>\n",
       "      <td>...</td>\n",
       "      <td>1.000000</td>\n",
       "      <td>1.000000</td>\n",
       "      <td>1.000000</td>\n",
       "      <td>0.000000</td>\n",
       "      <td>1.000000</td>\n",
       "      <td>1.000000</td>\n",
       "      <td>1.000000</td>\n",
       "      <td>0.000000</td>\n",
       "      <td>0.000000</td>\n",
       "      <td>1.000000</td>\n",
       "    </tr>\n",
       "    <tr>\n",
       "      <th>max</th>\n",
       "      <td>1442.000000</td>\n",
       "      <td>32500.000000</td>\n",
       "      <td>80.000000</td>\n",
       "      <td>12.000000</td>\n",
       "      <td>2004.000000</td>\n",
       "      <td>243000.000000</td>\n",
       "      <td>192.000000</td>\n",
       "      <td>1.000000</td>\n",
       "      <td>1.000000</td>\n",
       "      <td>16000.00000</td>\n",
       "      <td>...</td>\n",
       "      <td>1.000000</td>\n",
       "      <td>1.000000</td>\n",
       "      <td>1.000000</td>\n",
       "      <td>1.000000</td>\n",
       "      <td>1.000000</td>\n",
       "      <td>1.000000</td>\n",
       "      <td>1.000000</td>\n",
       "      <td>1.000000</td>\n",
       "      <td>1.000000</td>\n",
       "      <td>1.000000</td>\n",
       "    </tr>\n",
       "  </tbody>\n",
       "</table>\n",
       "<p>8 rows × 35 columns</p>\n",
       "</div>"
      ],
      "text/plain": [
       "                Id         Price    Age_08_04    Mfg_Month     Mfg_Year  \\\n",
       "count  1436.000000   1436.000000  1436.000000  1436.000000  1436.000000   \n",
       "mean    721.555014  10730.824513    55.947075     5.548747  1999.625348   \n",
       "std     416.476890   3626.964585    18.599988     3.354085     1.540722   \n",
       "min       1.000000   4350.000000     1.000000     1.000000  1998.000000   \n",
       "25%     361.750000   8450.000000    44.000000     3.000000  1998.000000   \n",
       "50%     721.500000   9900.000000    61.000000     5.000000  1999.000000   \n",
       "75%    1081.250000  11950.000000    70.000000     8.000000  2001.000000   \n",
       "max    1442.000000  32500.000000    80.000000    12.000000  2004.000000   \n",
       "\n",
       "                  KM           HP    Met_Color    Automatic           cc  ...  \\\n",
       "count    1436.000000  1436.000000  1436.000000  1436.000000   1436.00000  ...   \n",
       "mean    68533.259749   101.502089     0.674791     0.055710   1576.85585  ...   \n",
       "std     37506.448872    14.981080     0.468616     0.229441    424.38677  ...   \n",
       "min         1.000000    69.000000     0.000000     0.000000   1300.00000  ...   \n",
       "25%     43000.000000    90.000000     0.000000     0.000000   1400.00000  ...   \n",
       "50%     63389.500000   110.000000     1.000000     0.000000   1600.00000  ...   \n",
       "75%     87020.750000   110.000000     1.000000     0.000000   1600.00000  ...   \n",
       "max    243000.000000   192.000000     1.000000     1.000000  16000.00000  ...   \n",
       "\n",
       "       Central_Lock  Powered_Windows  Power_Steering        Radio  \\\n",
       "count   1436.000000      1436.000000     1436.000000  1436.000000   \n",
       "mean       0.580084         0.561978        0.977716     0.146240   \n",
       "std        0.493717         0.496317        0.147657     0.353469   \n",
       "min        0.000000         0.000000        0.000000     0.000000   \n",
       "25%        0.000000         0.000000        1.000000     0.000000   \n",
       "50%        1.000000         1.000000        1.000000     0.000000   \n",
       "75%        1.000000         1.000000        1.000000     0.000000   \n",
       "max        1.000000         1.000000        1.000000     1.000000   \n",
       "\n",
       "         Mistlamps  Sport_Model  Backseat_Divider  Metallic_Rim  \\\n",
       "count  1436.000000  1436.000000       1436.000000   1436.000000   \n",
       "mean      0.256964     0.300139          0.770195      0.204735   \n",
       "std       0.437111     0.458478          0.420854      0.403649   \n",
       "min       0.000000     0.000000          0.000000      0.000000   \n",
       "25%       0.000000     0.000000          1.000000      0.000000   \n",
       "50%       0.000000     0.000000          1.000000      0.000000   \n",
       "75%       1.000000     1.000000          1.000000      0.000000   \n",
       "max       1.000000     1.000000          1.000000      1.000000   \n",
       "\n",
       "       Radio_cassette      Tow_Bar  \n",
       "count     1436.000000  1436.000000  \n",
       "mean         0.145543     0.277855  \n",
       "std          0.352770     0.448098  \n",
       "min          0.000000     0.000000  \n",
       "25%          0.000000     0.000000  \n",
       "50%          0.000000     0.000000  \n",
       "75%          0.000000     1.000000  \n",
       "max          1.000000     1.000000  \n",
       "\n",
       "[8 rows x 35 columns]"
      ]
     },
     "execution_count": 6,
     "metadata": {},
     "output_type": "execute_result"
    }
   ],
   "source": [
    "## Checking other information\n",
    "df.describe()"
   ]
  },
  {
   "cell_type": "markdown",
   "metadata": {},
   "source": [
    "#### Analysis of some column values"
   ]
  },
  {
   "cell_type": "markdown",
   "metadata": {},
   "source": [
    "##### 1.Age_08_04"
   ]
  },
  {
   "cell_type": "code",
   "execution_count": 7,
   "metadata": {},
   "outputs": [
    {
     "data": {
      "text/plain": [
       "array([23, 24, 26, 30, 32, 27, 25, 22, 31, 28, 29, 20, 19, 16, 17, 11, 18,\n",
       "       13, 14,  4,  8,  7, 15, 10, 12,  9,  6,  2,  1, 43, 38, 40, 44, 41,\n",
       "       37, 39, 42, 35, 34, 33, 36, 53, 51, 54, 45, 55, 48, 52, 49, 56, 50,\n",
       "       47, 46, 58, 68, 59, 62, 65, 67, 64, 60, 61, 66, 57, 63, 73, 79, 78,\n",
       "       74, 77, 69, 80, 76, 70, 71, 75, 72], dtype=int64)"
      ]
     },
     "execution_count": 7,
     "metadata": {},
     "output_type": "execute_result"
    }
   ],
   "source": [
    "df['Age_08_04'].unique()"
   ]
  },
  {
   "cell_type": "markdown",
   "metadata": {},
   "source": [
    "##### 2.Fuel_Type"
   ]
  },
  {
   "cell_type": "code",
   "execution_count": 8,
   "metadata": {},
   "outputs": [
    {
     "data": {
      "text/plain": [
       "array(['Diesel', 'Petrol', 'CNG'], dtype=object)"
      ]
     },
     "execution_count": 8,
     "metadata": {},
     "output_type": "execute_result"
    }
   ],
   "source": [
    "df[\"Fuel_Type\"].unique()"
   ]
  },
  {
   "cell_type": "code",
   "execution_count": 9,
   "metadata": {},
   "outputs": [
    {
     "data": {
      "text/plain": [
       "Petrol    1264\n",
       "Diesel     155\n",
       "CNG         17\n",
       "Name: Fuel_Type, dtype: int64"
      ]
     },
     "execution_count": 9,
     "metadata": {},
     "output_type": "execute_result"
    }
   ],
   "source": [
    "df[\"Fuel_Type\"].value_counts()"
   ]
  },
  {
   "cell_type": "markdown",
   "metadata": {},
   "source": [
    "##### 3.cc"
   ]
  },
  {
   "cell_type": "code",
   "execution_count": 10,
   "metadata": {},
   "outputs": [
    {
     "data": {
      "text/plain": [
       "array([ 2000,  1800,  1900,  1600,  1400,  1598, 16000,  1995,  1398,\n",
       "        1300,  1587,  1975,  1332], dtype=int64)"
      ]
     },
     "execution_count": 10,
     "metadata": {},
     "output_type": "execute_result"
    }
   ],
   "source": [
    "df['cc'].unique()"
   ]
  },
  {
   "cell_type": "markdown",
   "metadata": {},
   "source": [
    "##### 4.Doors"
   ]
  },
  {
   "cell_type": "code",
   "execution_count": 11,
   "metadata": {},
   "outputs": [
    {
     "data": {
      "text/plain": [
       "array([3, 5, 4, 2], dtype=int64)"
      ]
     },
     "execution_count": 11,
     "metadata": {},
     "output_type": "execute_result"
    }
   ],
   "source": [
    "df['Doors'].unique()"
   ]
  },
  {
   "cell_type": "code",
   "execution_count": 12,
   "metadata": {},
   "outputs": [
    {
     "data": {
      "text/plain": [
       "5    674\n",
       "3    622\n",
       "4    138\n",
       "2      2\n",
       "Name: Doors, dtype: int64"
      ]
     },
     "execution_count": 12,
     "metadata": {},
     "output_type": "execute_result"
    }
   ],
   "source": [
    "df['Doors'].value_counts()"
   ]
  },
  {
   "cell_type": "markdown",
   "metadata": {},
   "source": [
    "##### 5.Gears"
   ]
  },
  {
   "cell_type": "code",
   "execution_count": 13,
   "metadata": {},
   "outputs": [
    {
     "data": {
      "text/plain": [
       "array([5, 6, 3, 4], dtype=int64)"
      ]
     },
     "execution_count": 13,
     "metadata": {},
     "output_type": "execute_result"
    }
   ],
   "source": [
    "df['Gears'].unique()"
   ]
  },
  {
   "cell_type": "code",
   "execution_count": 14,
   "metadata": {},
   "outputs": [
    {
     "data": {
      "text/plain": [
       "5    1390\n",
       "6      43\n",
       "3       2\n",
       "4       1\n",
       "Name: Gears, dtype: int64"
      ]
     },
     "execution_count": 14,
     "metadata": {},
     "output_type": "execute_result"
    }
   ],
   "source": [
    "df['Gears'].value_counts()"
   ]
  },
  {
   "cell_type": "markdown",
   "metadata": {},
   "source": [
    "##### 6.Quarterly_Tax"
   ]
  },
  {
   "cell_type": "code",
   "execution_count": 15,
   "metadata": {},
   "outputs": [
    {
     "data": {
      "text/plain": [
       "array([210, 100, 185,  85,  19, 234,  69, 283,  64, 197, 163,  72,  40],\n",
       "      dtype=int64)"
      ]
     },
     "execution_count": 15,
     "metadata": {},
     "output_type": "execute_result"
    }
   ],
   "source": [
    "df['Quarterly_Tax'].unique()"
   ]
  },
  {
   "cell_type": "markdown",
   "metadata": {},
   "source": [
    "##### 7.Weight"
   ]
  },
  {
   "cell_type": "code",
   "execution_count": 16,
   "metadata": {},
   "outputs": [
    {
     "data": {
      "text/plain": [
       "array([1165, 1170, 1245, 1185, 1105, 1065, 1120, 1100, 1255, 1270, 1110,\n",
       "       1195, 1180, 1075, 1130, 1275, 1060, 1115, 1265, 1260, 1125, 1155,\n",
       "       1045, 1480, 1320, 1280, 1135, 1090, 1150, 1085, 1160, 1205, 1084,\n",
       "       1140, 1095, 1025, 1119, 1080, 1121, 1615, 1067, 1040, 1030, 1055,\n",
       "       1050, 1103, 1070, 1035, 1015, 1000, 1078, 1079, 1109, 1020, 1010,\n",
       "       1114, 1172, 1094, 1083], dtype=int64)"
      ]
     },
     "execution_count": 16,
     "metadata": {},
     "output_type": "execute_result"
    }
   ],
   "source": [
    "df['Weight'].unique()"
   ]
  },
  {
   "cell_type": "markdown",
   "metadata": {},
   "source": [
    "#### Dropping Some Unwanted Columns as to perform on given assigned columns only."
   ]
  },
  {
   "cell_type": "code",
   "execution_count": 17,
   "metadata": {},
   "outputs": [
    {
     "data": {
      "text/html": [
       "<div>\n",
       "<style scoped>\n",
       "    .dataframe tbody tr th:only-of-type {\n",
       "        vertical-align: middle;\n",
       "    }\n",
       "\n",
       "    .dataframe tbody tr th {\n",
       "        vertical-align: top;\n",
       "    }\n",
       "\n",
       "    .dataframe thead th {\n",
       "        text-align: right;\n",
       "    }\n",
       "</style>\n",
       "<table border=\"1\" class=\"dataframe\">\n",
       "  <thead>\n",
       "    <tr style=\"text-align: right;\">\n",
       "      <th></th>\n",
       "      <th>Price</th>\n",
       "      <th>Age_08_04</th>\n",
       "      <th>KM</th>\n",
       "      <th>HP</th>\n",
       "      <th>cc</th>\n",
       "      <th>Doors</th>\n",
       "      <th>Gears</th>\n",
       "      <th>Quarterly_Tax</th>\n",
       "      <th>Weight</th>\n",
       "    </tr>\n",
       "  </thead>\n",
       "  <tbody>\n",
       "    <tr>\n",
       "      <th>0</th>\n",
       "      <td>13500</td>\n",
       "      <td>23</td>\n",
       "      <td>46986</td>\n",
       "      <td>90</td>\n",
       "      <td>2000</td>\n",
       "      <td>3</td>\n",
       "      <td>5</td>\n",
       "      <td>210</td>\n",
       "      <td>1165</td>\n",
       "    </tr>\n",
       "    <tr>\n",
       "      <th>1</th>\n",
       "      <td>13750</td>\n",
       "      <td>23</td>\n",
       "      <td>72937</td>\n",
       "      <td>90</td>\n",
       "      <td>2000</td>\n",
       "      <td>3</td>\n",
       "      <td>5</td>\n",
       "      <td>210</td>\n",
       "      <td>1165</td>\n",
       "    </tr>\n",
       "    <tr>\n",
       "      <th>2</th>\n",
       "      <td>13950</td>\n",
       "      <td>24</td>\n",
       "      <td>41711</td>\n",
       "      <td>90</td>\n",
       "      <td>2000</td>\n",
       "      <td>3</td>\n",
       "      <td>5</td>\n",
       "      <td>210</td>\n",
       "      <td>1165</td>\n",
       "    </tr>\n",
       "    <tr>\n",
       "      <th>3</th>\n",
       "      <td>14950</td>\n",
       "      <td>26</td>\n",
       "      <td>48000</td>\n",
       "      <td>90</td>\n",
       "      <td>2000</td>\n",
       "      <td>3</td>\n",
       "      <td>5</td>\n",
       "      <td>210</td>\n",
       "      <td>1165</td>\n",
       "    </tr>\n",
       "    <tr>\n",
       "      <th>4</th>\n",
       "      <td>13750</td>\n",
       "      <td>30</td>\n",
       "      <td>38500</td>\n",
       "      <td>90</td>\n",
       "      <td>2000</td>\n",
       "      <td>3</td>\n",
       "      <td>5</td>\n",
       "      <td>210</td>\n",
       "      <td>1170</td>\n",
       "    </tr>\n",
       "    <tr>\n",
       "      <th>...</th>\n",
       "      <td>...</td>\n",
       "      <td>...</td>\n",
       "      <td>...</td>\n",
       "      <td>...</td>\n",
       "      <td>...</td>\n",
       "      <td>...</td>\n",
       "      <td>...</td>\n",
       "      <td>...</td>\n",
       "      <td>...</td>\n",
       "    </tr>\n",
       "    <tr>\n",
       "      <th>1431</th>\n",
       "      <td>7500</td>\n",
       "      <td>69</td>\n",
       "      <td>20544</td>\n",
       "      <td>86</td>\n",
       "      <td>1300</td>\n",
       "      <td>3</td>\n",
       "      <td>5</td>\n",
       "      <td>69</td>\n",
       "      <td>1025</td>\n",
       "    </tr>\n",
       "    <tr>\n",
       "      <th>1432</th>\n",
       "      <td>10845</td>\n",
       "      <td>72</td>\n",
       "      <td>19000</td>\n",
       "      <td>86</td>\n",
       "      <td>1300</td>\n",
       "      <td>3</td>\n",
       "      <td>5</td>\n",
       "      <td>69</td>\n",
       "      <td>1015</td>\n",
       "    </tr>\n",
       "    <tr>\n",
       "      <th>1433</th>\n",
       "      <td>8500</td>\n",
       "      <td>71</td>\n",
       "      <td>17016</td>\n",
       "      <td>86</td>\n",
       "      <td>1300</td>\n",
       "      <td>3</td>\n",
       "      <td>5</td>\n",
       "      <td>69</td>\n",
       "      <td>1015</td>\n",
       "    </tr>\n",
       "    <tr>\n",
       "      <th>1434</th>\n",
       "      <td>7250</td>\n",
       "      <td>70</td>\n",
       "      <td>16916</td>\n",
       "      <td>86</td>\n",
       "      <td>1300</td>\n",
       "      <td>3</td>\n",
       "      <td>5</td>\n",
       "      <td>69</td>\n",
       "      <td>1015</td>\n",
       "    </tr>\n",
       "    <tr>\n",
       "      <th>1435</th>\n",
       "      <td>6950</td>\n",
       "      <td>76</td>\n",
       "      <td>1</td>\n",
       "      <td>110</td>\n",
       "      <td>1600</td>\n",
       "      <td>5</td>\n",
       "      <td>5</td>\n",
       "      <td>19</td>\n",
       "      <td>1114</td>\n",
       "    </tr>\n",
       "  </tbody>\n",
       "</table>\n",
       "<p>1436 rows × 9 columns</p>\n",
       "</div>"
      ],
      "text/plain": [
       "      Price  Age_08_04     KM   HP    cc  Doors  Gears  Quarterly_Tax  Weight\n",
       "0     13500         23  46986   90  2000      3      5            210    1165\n",
       "1     13750         23  72937   90  2000      3      5            210    1165\n",
       "2     13950         24  41711   90  2000      3      5            210    1165\n",
       "3     14950         26  48000   90  2000      3      5            210    1165\n",
       "4     13750         30  38500   90  2000      3      5            210    1170\n",
       "...     ...        ...    ...  ...   ...    ...    ...            ...     ...\n",
       "1431   7500         69  20544   86  1300      3      5             69    1025\n",
       "1432  10845         72  19000   86  1300      3      5             69    1015\n",
       "1433   8500         71  17016   86  1300      3      5             69    1015\n",
       "1434   7250         70  16916   86  1300      3      5             69    1015\n",
       "1435   6950         76      1  110  1600      5      5             19    1114\n",
       "\n",
       "[1436 rows x 9 columns]"
      ]
     },
     "execution_count": 17,
     "metadata": {},
     "output_type": "execute_result"
    }
   ],
   "source": [
    "df1=df.drop(columns=['Id', 'Model','Mfg_Month', 'Mfg_Year','Fuel_Type', 'Met_Color', 'Automatic', 'Cylinders', \n",
    "                 'Mfr_Guarantee', 'BOVAG_Guarantee','Guarantee_Period', 'ABS', 'Airbag_1', 'Airbag_2', 'Airco',\n",
    "                'Automatic_airco', 'Boardcomputer', 'CD_Player', 'Central_Lock','Powered_Windows', 'Power_Steering', \n",
    "                 'Radio', 'Mistlamps','Sport_Model', 'Backseat_Divider', 'Metallic_Rim', 'Radio_cassette','Tow_Bar'])\n",
    "df1"
   ]
  },
  {
   "cell_type": "code",
   "execution_count": 18,
   "metadata": {},
   "outputs": [
    {
     "data": {
      "text/plain": [
       "(1436, 9)"
      ]
     },
     "execution_count": 18,
     "metadata": {},
     "output_type": "execute_result"
    }
   ],
   "source": [
    "df1.shape"
   ]
  },
  {
   "cell_type": "markdown",
   "metadata": {},
   "source": [
    "#### Checking Missing values and duplicate values"
   ]
  },
  {
   "cell_type": "code",
   "execution_count": 19,
   "metadata": {},
   "outputs": [
    {
     "data": {
      "text/plain": [
       "Price            0\n",
       "Age_08_04        0\n",
       "KM               0\n",
       "HP               0\n",
       "cc               0\n",
       "Doors            0\n",
       "Gears            0\n",
       "Quarterly_Tax    0\n",
       "Weight           0\n",
       "dtype: int64"
      ]
     },
     "execution_count": 19,
     "metadata": {},
     "output_type": "execute_result"
    }
   ],
   "source": [
    "## Checking missing values\n",
    "df1.isna().sum()"
   ]
  },
  {
   "cell_type": "markdown",
   "metadata": {},
   "source": [
    "No missing values found."
   ]
  },
  {
   "cell_type": "code",
   "execution_count": 20,
   "metadata": {},
   "outputs": [
    {
     "data": {
      "text/plain": [
       "1"
      ]
     },
     "execution_count": 20,
     "metadata": {},
     "output_type": "execute_result"
    }
   ],
   "source": [
    "## checking duplicate values\n",
    "df1.duplicated().sum()"
   ]
  },
  {
   "cell_type": "markdown",
   "metadata": {},
   "source": [
    "#### Checking and Clipping Outliers"
   ]
  },
  {
   "cell_type": "code",
   "execution_count": 21,
   "metadata": {},
   "outputs": [
    {
     "data": {
      "text/plain": [
       "<AxesSubplot:>"
      ]
     },
     "execution_count": 21,
     "metadata": {},
     "output_type": "execute_result"
    },
    {
     "data": {
      "image/png": "[encoded data removed]",
      "text/plain": [
       "<Figure size 864x432 with 1 Axes>"
      ]
     },
     "metadata": {
      "needs_background": "light"
     },
     "output_type": "display_data"
    }
   ],
   "source": [
    "## Checking Outliers by using boxplot\n",
    "df1.boxplot(figsize=(12,6))"
   ]
  },
  {
   "cell_type": "code",
   "execution_count": 22,
   "metadata": {},
   "outputs": [],
   "source": [
    "## Cliping Outliers \n",
    "def clipvalues(df,lower,upper):\n",
    "    for col in df.columns:\n",
    "        l=df[col].quantile(lower)\n",
    "        u=df[col].quantile(upper)\n",
    "        df[col]=df[col].clip(l,u)\n",
    "    return df    "
   ]
  },
  {
   "cell_type": "code",
   "execution_count": 23,
   "metadata": {},
   "outputs": [
    {
     "data": {
      "text/plain": [
       "<AxesSubplot:>"
      ]
     },
     "execution_count": 23,
     "metadata": {},
     "output_type": "execute_result"
    },
    {
     "data": {
      "image/png": "[encoded data removed]",
      "text/plain": [
       "<Figure size 864x432 with 1 Axes>"
      ]
     },
     "metadata": {
      "needs_background": "light"
     },
     "output_type": "display_data"
    }
   ],
   "source": [
    "df2=clipvalues(df1,0.05,0.90)\n",
    "df2.boxplot(figsize=(12,6))"
   ]
  },
  {
   "cell_type": "code",
   "execution_count": 24,
   "metadata": {},
   "outputs": [
    {
     "data": {
      "text/plain": [
       "(1436, 9)"
      ]
     },
     "execution_count": 24,
     "metadata": {},
     "output_type": "execute_result"
    }
   ],
   "source": [
    "df2.shape"
   ]
  },
  {
   "cell_type": "code",
   "execution_count": 25,
   "metadata": {},
   "outputs": [
    {
     "data": {
      "text/plain": [
       "Price              int64\n",
       "Age_08_04          int64\n",
       "KM               float64\n",
       "HP                 int64\n",
       "cc                 int64\n",
       "Doors              int64\n",
       "Gears              int64\n",
       "Quarterly_Tax    float64\n",
       "Weight             int64\n",
       "dtype: object"
      ]
     },
     "execution_count": 25,
     "metadata": {},
     "output_type": "execute_result"
    }
   ],
   "source": [
    "df2.dtypes"
   ]
  },
  {
   "cell_type": "markdown",
   "metadata": {},
   "source": [
    "#### Checking Corelation between columns"
   ]
  },
  {
   "cell_type": "code",
   "execution_count": 26,
   "metadata": {},
   "outputs": [
    {
     "data": {
      "text/html": [
       "<div>\n",
       "<style scoped>\n",
       "    .dataframe tbody tr th:only-of-type {\n",
       "        vertical-align: middle;\n",
       "    }\n",
       "\n",
       "    .dataframe tbody tr th {\n",
       "        vertical-align: top;\n",
       "    }\n",
       "\n",
       "    .dataframe thead th {\n",
       "        text-align: right;\n",
       "    }\n",
       "</style>\n",
       "<table border=\"1\" class=\"dataframe\">\n",
       "  <thead>\n",
       "    <tr style=\"text-align: right;\">\n",
       "      <th></th>\n",
       "      <th>Price</th>\n",
       "      <th>Age_08_04</th>\n",
       "      <th>KM</th>\n",
       "      <th>HP</th>\n",
       "      <th>cc</th>\n",
       "      <th>Doors</th>\n",
       "      <th>Gears</th>\n",
       "      <th>Quarterly_Tax</th>\n",
       "      <th>Weight</th>\n",
       "    </tr>\n",
       "  </thead>\n",
       "  <tbody>\n",
       "    <tr>\n",
       "      <th>Price</th>\n",
       "      <td>1.000000</td>\n",
       "      <td>-0.901985</td>\n",
       "      <td>-0.613748</td>\n",
       "      <td>0.217032</td>\n",
       "      <td>0.128895</td>\n",
       "      <td>0.187515</td>\n",
       "      <td>NaN</td>\n",
       "      <td>0.121388</td>\n",
       "      <td>0.493677</td>\n",
       "    </tr>\n",
       "    <tr>\n",
       "      <th>Age_08_04</th>\n",
       "      <td>-0.901985</td>\n",
       "      <td>1.000000</td>\n",
       "      <td>0.551086</td>\n",
       "      <td>-0.105060</td>\n",
       "      <td>-0.138488</td>\n",
       "      <td>-0.143341</td>\n",
       "      <td>NaN</td>\n",
       "      <td>-0.168047</td>\n",
       "      <td>-0.466851</td>\n",
       "    </tr>\n",
       "    <tr>\n",
       "      <th>KM</th>\n",
       "      <td>-0.613748</td>\n",
       "      <td>0.551086</td>\n",
       "      <td>1.000000</td>\n",
       "      <td>-0.272143</td>\n",
       "      <td>0.219347</td>\n",
       "      <td>-0.032979</td>\n",
       "      <td>NaN</td>\n",
       "      <td>0.248947</td>\n",
       "      <td>-0.041134</td>\n",
       "    </tr>\n",
       "    <tr>\n",
       "      <th>HP</th>\n",
       "      <td>0.217032</td>\n",
       "      <td>-0.105060</td>\n",
       "      <td>-0.272143</td>\n",
       "      <td>1.000000</td>\n",
       "      <td>0.084051</td>\n",
       "      <td>0.132301</td>\n",
       "      <td>NaN</td>\n",
       "      <td>-0.403962</td>\n",
       "      <td>0.002313</td>\n",
       "    </tr>\n",
       "    <tr>\n",
       "      <th>cc</th>\n",
       "      <td>0.128895</td>\n",
       "      <td>-0.138488</td>\n",
       "      <td>0.219347</td>\n",
       "      <td>0.084051</td>\n",
       "      <td>1.000000</td>\n",
       "      <td>0.140305</td>\n",
       "      <td>NaN</td>\n",
       "      <td>0.654268</td>\n",
       "      <td>0.707458</td>\n",
       "    </tr>\n",
       "    <tr>\n",
       "      <th>Doors</th>\n",
       "      <td>0.187515</td>\n",
       "      <td>-0.143341</td>\n",
       "      <td>-0.032979</td>\n",
       "      <td>0.132301</td>\n",
       "      <td>0.140305</td>\n",
       "      <td>1.000000</td>\n",
       "      <td>NaN</td>\n",
       "      <td>0.115410</td>\n",
       "      <td>0.405246</td>\n",
       "    </tr>\n",
       "    <tr>\n",
       "      <th>Gears</th>\n",
       "      <td>NaN</td>\n",
       "      <td>NaN</td>\n",
       "      <td>NaN</td>\n",
       "      <td>NaN</td>\n",
       "      <td>NaN</td>\n",
       "      <td>NaN</td>\n",
       "      <td>NaN</td>\n",
       "      <td>NaN</td>\n",
       "      <td>NaN</td>\n",
       "    </tr>\n",
       "    <tr>\n",
       "      <th>Quarterly_Tax</th>\n",
       "      <td>0.121388</td>\n",
       "      <td>-0.168047</td>\n",
       "      <td>0.248947</td>\n",
       "      <td>-0.403962</td>\n",
       "      <td>0.654268</td>\n",
       "      <td>0.115410</td>\n",
       "      <td>NaN</td>\n",
       "      <td>1.000000</td>\n",
       "      <td>0.599136</td>\n",
       "    </tr>\n",
       "    <tr>\n",
       "      <th>Weight</th>\n",
       "      <td>0.493677</td>\n",
       "      <td>-0.466851</td>\n",
       "      <td>-0.041134</td>\n",
       "      <td>0.002313</td>\n",
       "      <td>0.707458</td>\n",
       "      <td>0.405246</td>\n",
       "      <td>NaN</td>\n",
       "      <td>0.599136</td>\n",
       "      <td>1.000000</td>\n",
       "    </tr>\n",
       "  </tbody>\n",
       "</table>\n",
       "</div>"
      ],
      "text/plain": [
       "                  Price  Age_08_04        KM        HP        cc     Doors  \\\n",
       "Price          1.000000  -0.901985 -0.613748  0.217032  0.128895  0.187515   \n",
       "Age_08_04     -0.901985   1.000000  0.551086 -0.105060 -0.138488 -0.143341   \n",
       "KM            -0.613748   0.551086  1.000000 -0.272143  0.219347 -0.032979   \n",
       "HP             0.217032  -0.105060 -0.272143  1.000000  0.084051  0.132301   \n",
       "cc             0.128895  -0.138488  0.219347  0.084051  1.000000  0.140305   \n",
       "Doors          0.187515  -0.143341 -0.032979  0.132301  0.140305  1.000000   \n",
       "Gears               NaN        NaN       NaN       NaN       NaN       NaN   \n",
       "Quarterly_Tax  0.121388  -0.168047  0.248947 -0.403962  0.654268  0.115410   \n",
       "Weight         0.493677  -0.466851 -0.041134  0.002313  0.707458  0.405246   \n",
       "\n",
       "               Gears  Quarterly_Tax    Weight  \n",
       "Price            NaN       0.121388  0.493677  \n",
       "Age_08_04        NaN      -0.168047 -0.466851  \n",
       "KM               NaN       0.248947 -0.041134  \n",
       "HP               NaN      -0.403962  0.002313  \n",
       "cc               NaN       0.654268  0.707458  \n",
       "Doors            NaN       0.115410  0.405246  \n",
       "Gears            NaN            NaN       NaN  \n",
       "Quarterly_Tax    NaN       1.000000  0.599136  \n",
       "Weight           NaN       0.599136  1.000000  "
      ]
     },
     "execution_count": 26,
     "metadata": {},
     "output_type": "execute_result"
    }
   ],
   "source": [
    "df2.corr()"
   ]
  },
  {
   "cell_type": "code",
   "execution_count": 27,
   "metadata": {},
   "outputs": [
    {
     "data": {
      "text/plain": [
       "<AxesSubplot:>"
      ]
     },
     "execution_count": 27,
     "metadata": {},
     "output_type": "execute_result"
    },
    {
     "data": {
      "image/png": "[encoded data removed]",
      "text/plain": [
       "<Figure size 432x288 with 2 Axes>"
      ]
     },
     "metadata": {
      "needs_background": "light"
     },
     "output_type": "display_data"
    }
   ],
   "source": [
    "sns.heatmap(df2.corr(),annot=True)"
   ]
  },
  {
   "cell_type": "code",
   "execution_count": 28,
   "metadata": {},
   "outputs": [
    {
     "data": {
      "text/plain": [
       "Index(['Price', 'Age_08_04', 'KM', 'HP', 'cc', 'Doors', 'Gears',\n",
       "       'Quarterly_Tax', 'Weight'],\n",
       "      dtype='object')"
      ]
     },
     "execution_count": 28,
     "metadata": {},
     "output_type": "execute_result"
    }
   ],
   "source": [
    "df2.columns"
   ]
  },
  {
   "cell_type": "code",
   "execution_count": 29,
   "metadata": {},
   "outputs": [
    {
     "data": {
      "text/plain": [
       "<seaborn.axisgrid.PairGrid at 0x1adbb7fc370>"
      ]
     },
     "execution_count": 29,
     "metadata": {},
     "output_type": "execute_result"
    },
    {
     "data": {
      "image/png": "[encoded data removed]",
      "text/plain": [
       "<Figure size 1440x180 with 8 Axes>"
      ]
     },
     "metadata": {
      "needs_background": "light"
     },
     "output_type": "display_data"
    }
   ],
   "source": [
    "sns.pairplot(x_vars=['Age_08_04', 'KM', 'HP', 'cc', 'Doors', 'Gears',\n",
    "       'Quarterly_Tax', 'Weight'],y_vars=['Price'],data=df2)"
   ]
  },
  {
   "cell_type": "markdown",
   "metadata": {},
   "source": [
    "Not found any linear relation between dependent and independent variable."
   ]
  },
  {
   "cell_type": "markdown",
   "metadata": {},
   "source": [
    "## 1.Implementation of Linear Regression"
   ]
  },
  {
   "cell_type": "code",
   "execution_count": 30,
   "metadata": {},
   "outputs": [],
   "source": [
    "## Defining Dependent variable as y and independent variable as x\n",
    "x=df2.drop(columns=[\"Price\"])\n",
    "y=df2[\"Price\"]"
   ]
  },
  {
   "cell_type": "code",
   "execution_count": 31,
   "metadata": {},
   "outputs": [],
   "source": [
    "## Splitting data into train and test\n",
    "from sklearn.model_selection import train_test_split\n",
    "xtrain,xtest,ytrain,ytest=train_test_split(x,y,test_size=0.2,random_state=42)"
   ]
  },
  {
   "cell_type": "code",
   "execution_count": 32,
   "metadata": {},
   "outputs": [
    {
     "data": {
      "text/plain": [
       "LinearRegression()"
      ]
     },
     "execution_count": 32,
     "metadata": {},
     "output_type": "execute_result"
    }
   ],
   "source": [
    "## Model Training\n",
    "from sklearn.linear_model import LinearRegression\n",
    "LRmodel=LinearRegression()\n",
    "LRmodel.fit(xtrain,ytrain)"
   ]
  },
  {
   "cell_type": "code",
   "execution_count": 33,
   "metadata": {},
   "outputs": [],
   "source": [
    "## Model Testing\n",
    "ypred=LRmodel.predict(xtest)"
   ]
  },
  {
   "cell_type": "code",
   "execution_count": 34,
   "metadata": {},
   "outputs": [
    {
     "name": "stdout",
     "output_type": "stream",
     "text": [
      "MSE : 939633.8989 \n",
      "MAE : 749.3032 \n",
      "RMSE : 969.3472 \n",
      "R2_score : 0.8669\n"
     ]
    }
   ],
   "source": [
    "## Evaluation of Model\n",
    "from sklearn.metrics import r2_score,mean_absolute_error,mean_squared_error\n",
    "mse=mean_squared_error(ytest,ypred).round(4)\n",
    "mae=mean_absolute_error(ytest,ypred).round(4)\n",
    "rmse=np.sqrt(mse).round(4)\n",
    "r2_score=r2_score(ytest,ypred).round(4)\n",
    "print('MSE : {} \\nMAE : {} \\nRMSE : {} \\nR2_score : {}'.format(mse,mae,rmse,r2_score))"
   ]
  },
  {
   "cell_type": "code",
   "execution_count": 35,
   "metadata": {},
   "outputs": [
    {
     "name": "stdout",
     "output_type": "stream",
     "text": [
      "Linear Regression on training data: 0.8618\n",
      "Linear Regression on testing data: 0.8669\n"
     ]
    }
   ],
   "source": [
    "## Checking training and testing score for checking underfitting and overfitting\n",
    "print(\"Linear Regression on training data:\",LRmodel.score(xtrain,ytrain).round(4))\n",
    "print(\"Linear Regression on testing data:\",LRmodel.score(xtest,ytest).round(4))"
   ]
  },
  {
   "cell_type": "markdown",
   "metadata": {},
   "source": [
    "Model is perfectly fit."
   ]
  },
  {
   "cell_type": "markdown",
   "metadata": {},
   "source": [
    "### Assumption of linear model."
   ]
  },
  {
   "cell_type": "markdown",
   "metadata": {},
   "source": [
    "#### 1.Homoscedasticity"
   ]
  },
  {
   "cell_type": "code",
   "execution_count": 36,
   "metadata": {},
   "outputs": [
    {
     "data": {
      "text/plain": [
       "<matplotlib.collections.PathCollection at 0x1adbd3835b0>"
      ]
     },
     "execution_count": 36,
     "metadata": {},
     "output_type": "execute_result"
    },
    {
     "data": {
      "image/png": "[encoded data removed]",
      "text/plain": [
       "<Figure size 432x288 with 1 Axes>"
      ]
     },
     "metadata": {
      "needs_background": "light"
     },
     "output_type": "display_data"
    }
   ],
   "source": [
    "residuals=ytest.values-ypred\n",
    "plt.scatter(ypred,residuals)"
   ]
  },
  {
   "cell_type": "markdown",
   "metadata": {},
   "source": [
    "We can clearly see in the above scatterplot the data is hetroscadastic."
   ]
  },
  {
   "cell_type": "markdown",
   "metadata": {},
   "source": [
    "#### 2. Normality of Residuals"
   ]
  },
  {
   "cell_type": "code",
   "execution_count": 37,
   "metadata": {},
   "outputs": [
    {
     "data": {
      "text/plain": [
       "<AxesSubplot:ylabel='Count'>"
      ]
     },
     "execution_count": 37,
     "metadata": {},
     "output_type": "execute_result"
    },
    {
     "data": {
      "image/png": "[encoded data removed]",
      "text/plain": [
       "<Figure size 1008x576 with 1 Axes>"
      ]
     },
     "metadata": {
      "needs_background": "light"
     },
     "output_type": "display_data"
    }
   ],
   "source": [
    "plt.figure(figsize=(14,8))\n",
    "sns.histplot(residuals,kde=True)"
   ]
  },
  {
   "cell_type": "markdown",
   "metadata": {},
   "source": [
    "Data is nearly Normaly distributed."
   ]
  },
  {
   "cell_type": "markdown",
   "metadata": {},
   "source": [
    "#### 3.Mean of Residuals"
   ]
  },
  {
   "cell_type": "code",
   "execution_count": 38,
   "metadata": {},
   "outputs": [
    {
     "name": "stdout",
     "output_type": "stream",
     "text": [
      "Mean of Residual is : -28.490407246060336\n"
     ]
    }
   ],
   "source": [
    "print(\"Mean of Residual is :\", np.mean(residuals))"
   ]
  },
  {
   "cell_type": "markdown",
   "metadata": {},
   "source": [
    "Residuals as we know are the differences between the true value and the predicted value. One of the assumptions of linear regression is that the mean of the residuals should be zero."
   ]
  },
  {
   "cell_type": "markdown",
   "metadata": {},
   "source": [
    "#### 4.Multicolinearity\n",
    "Maximum the vif value more the multicolinearity present."
   ]
  },
  {
   "cell_type": "code",
   "execution_count": 39,
   "metadata": {},
   "outputs": [
    {
     "data": {
      "text/plain": [
       "{'Price': 7.295875408417647,\n",
       " 'Age_08_04': 5.684329558585991,\n",
       " 'KM': 2.0315164887312176,\n",
       " 'HP': 1.9226233873469423,\n",
       " 'cc': 3.718584800155657,\n",
       " 'Doors': 1.3474854207428686,\n",
       " 'Gears': 2647.8174499670376,\n",
       " 'Quarterly_Tax': 3.0474011462300727,\n",
       " 'Weight': 4.1152376915356665}"
      ]
     },
     "execution_count": 39,
     "metadata": {},
     "output_type": "execute_result"
    }
   ],
   "source": [
    "from statsmodels.stats.outliers_influence import variance_inflation_factor\n",
    "\n",
    "def get_vif(df):\n",
    "    d={}\n",
    "    for i in range(df.shape[1]):\n",
    "        d[df.columns[i]]=variance_inflation_factor(df.values,i)\n",
    "    return d \n",
    "get_vif(df2)"
   ]
  },
  {
   "cell_type": "markdown",
   "metadata": {},
   "source": [
    "We can Reduce multicolinearity by droping 'Gears' Column But as we see in heatmap there is no corelation between gears and other columns too.So if we drop or undrop gears column there will be no effect on data."
   ]
  },
  {
   "cell_type": "markdown",
   "metadata": {},
   "source": [
    "#### Linear Regression on Scaled data"
   ]
  },
  {
   "cell_type": "code",
   "execution_count": 40,
   "metadata": {},
   "outputs": [],
   "source": [
    "## Using standard scaler for scaling\n",
    "from sklearn.preprocessing import StandardScaler\n",
    "sc=StandardScaler()\n",
    "sc_xtrain=sc.fit_transform(xtrain)\n",
    "sc_xtest=sc.fit_transform(xtest)"
   ]
  },
  {
   "cell_type": "code",
   "execution_count": 41,
   "metadata": {},
   "outputs": [
    {
     "data": {
      "text/plain": [
       "LinearRegression()"
      ]
     },
     "execution_count": 41,
     "metadata": {},
     "output_type": "execute_result"
    }
   ],
   "source": [
    "## Model Training\n",
    "LRmodel_sc=LinearRegression()\n",
    "LRmodel_sc.fit(sc_xtrain,ytrain)"
   ]
  },
  {
   "cell_type": "code",
   "execution_count": 42,
   "metadata": {},
   "outputs": [],
   "source": [
    "## Moel Testing\n",
    "ypred=LRmodel_sc.predict(sc_xtest)"
   ]
  },
  {
   "cell_type": "code",
   "execution_count": 43,
   "metadata": {},
   "outputs": [
    {
     "name": "stdout",
     "output_type": "stream",
     "text": [
      "MSE : 953721.8925 \n",
      "MAE : 760.2874 \n",
      "RMSE : 976.5869 \n",
      "R2_score : 0.8649\n"
     ]
    }
   ],
   "source": [
    "## Evaluation of model\n",
    "from sklearn.metrics import r2_score,mean_absolute_error,mean_squared_error\n",
    "mse=mean_squared_error(ytest,ypred).round(4)\n",
    "mae=mean_absolute_error(ytest,ypred).round(4)\n",
    "rmse=np.sqrt(mse).round(4)\n",
    "r2_score=r2_score(ytest,ypred).round(4)\n",
    "print('MSE : {} \\nMAE : {} \\nRMSE : {} \\nR2_score : {}'.format(mse,mae,rmse,r2_score))"
   ]
  },
  {
   "cell_type": "markdown",
   "metadata": {},
   "source": [
    "## 2.Implementation of Polynomial Regression"
   ]
  },
  {
   "cell_type": "code",
   "execution_count": 44,
   "metadata": {},
   "outputs": [],
   "source": [
    "## Defining Dependent variable as y and independent variable as x\n",
    "x=df2.drop(columns=[\"Price\"])\n",
    "y=df2[\"Price\"]"
   ]
  },
  {
   "cell_type": "code",
   "execution_count": 45,
   "metadata": {},
   "outputs": [],
   "source": [
    "## Splitting data into train and test\n",
    "from sklearn.model_selection import train_test_split\n",
    "xtrain,xtest,ytrain,ytest=train_test_split(x,y,test_size=0.2,random_state=42)"
   ]
  },
  {
   "cell_type": "markdown",
   "metadata": {},
   "source": [
    "#### Polynomial Regression (degree=3)"
   ]
  },
  {
   "cell_type": "code",
   "execution_count": 46,
   "metadata": {},
   "outputs": [],
   "source": [
    "## Transforming data to polynomial feature\n",
    "from sklearn.preprocessing import PolynomialFeatures\n",
    "pf=PolynomialFeatures(degree=3)\n",
    "pf_xtrain=pf.fit_transform(xtrain)\n",
    "pf_xtest=pf.fit_transform(xtest)"
   ]
  },
  {
   "cell_type": "code",
   "execution_count": 47,
   "metadata": {},
   "outputs": [
    {
     "data": {
      "text/plain": [
       "LinearRegression()"
      ]
     },
     "execution_count": 47,
     "metadata": {},
     "output_type": "execute_result"
    }
   ],
   "source": [
    "## Model Training of polynomial transformed data\n",
    "from sklearn.linear_model import LinearRegression\n",
    "PRmodel=LinearRegression()\n",
    "PRmodel.fit(pf_xtrain,ytrain)"
   ]
  },
  {
   "cell_type": "code",
   "execution_count": 48,
   "metadata": {},
   "outputs": [],
   "source": [
    "## Model Testing\n",
    "ypred=PRmodel.predict(pf_xtest)"
   ]
  },
  {
   "cell_type": "code",
   "execution_count": 49,
   "metadata": {},
   "outputs": [
    {
     "name": "stdout",
     "output_type": "stream",
     "text": [
      "MSE : 1120307.131 \n",
      "MAE : 752.9795 \n",
      "RMSE : 1058.4456 \n",
      "R2_score : 0.8413\n"
     ]
    }
   ],
   "source": [
    "##Evaluation of Model\n",
    "from sklearn.metrics import mean_absolute_error,mean_squared_error,r2_score\n",
    "mae=mean_absolute_error(ytest,ypred).round(4)\n",
    "mse=mean_squared_error(ytest,ypred).round(4)\n",
    "rmse=np.sqrt(mse).round(4)\n",
    "r2_score=r2_score(ytest,ypred).round(4)\n",
    "print('MSE : {} \\nMAE : {} \\nRMSE : {} \\nR2_score : {}'.format(mse,mae,rmse,r2_score))"
   ]
  },
  {
   "cell_type": "code",
   "execution_count": 50,
   "metadata": {},
   "outputs": [
    {
     "name": "stdout",
     "output_type": "stream",
     "text": [
      "Polynomial Regression on training data: 0.8986\n",
      "Polynomial Regression on testing data: 0.8413\n"
     ]
    }
   ],
   "source": [
    "## Checking training and testing score for checking underfitting and overfitting\n",
    "print(\"Polynomial Regression on training data:\",PRmodel.score(pf_xtrain,ytrain).round(4))\n",
    "print(\"Polynomial Regression on testing data:\",PRmodel.score(pf_xtest,ytest).round(4))"
   ]
  },
  {
   "cell_type": "markdown",
   "metadata": {},
   "source": [
    "Model is good fit.No overfitting and underfitting found."
   ]
  },
  {
   "cell_type": "markdown",
   "metadata": {},
   "source": [
    "#### Polynomial Regression On Scaled Data"
   ]
  },
  {
   "cell_type": "code",
   "execution_count": 51,
   "metadata": {},
   "outputs": [],
   "source": [
    "## Scaling Polynomial data of degree 3\n",
    "sc=StandardScaler()\n",
    "Psc_xtrain=sc.fit_transform(pf_xtrain)\n",
    "Psc_xtest=sc.fit_transform(pf_xtest)"
   ]
  },
  {
   "cell_type": "code",
   "execution_count": 52,
   "metadata": {},
   "outputs": [
    {
     "data": {
      "text/plain": [
       "LinearRegression()"
      ]
     },
     "execution_count": 52,
     "metadata": {},
     "output_type": "execute_result"
    }
   ],
   "source": [
    "## Model Training\n",
    "PRmodel=LinearRegression()\n",
    "PRmodel.fit(Psc_xtrain,ytrain)"
   ]
  },
  {
   "cell_type": "code",
   "execution_count": 53,
   "metadata": {},
   "outputs": [],
   "source": [
    "## Model Testing\n",
    "ypred=PRmodel.predict(Psc_xtest)"
   ]
  },
  {
   "cell_type": "code",
   "execution_count": 54,
   "metadata": {},
   "outputs": [
    {
     "name": "stdout",
     "output_type": "stream",
     "text": [
      "MSE : 87444335.9916 \n",
      "MAE : 5912.3998 \n",
      "RMSE : 9351.1676 \n",
      "R2_score : -11.3897\n"
     ]
    }
   ],
   "source": [
    "##Evaluation of model\n",
    "from sklearn.metrics import mean_absolute_error,mean_squared_error,r2_score\n",
    "mae=mean_absolute_error(ytest,ypred).round(4)\n",
    "mse=mean_squared_error(ytest,ypred).round(4)\n",
    "rmse=np.sqrt(mse).round(4)\n",
    "r2_score=r2_score(ytest,ypred).round(4)\n",
    "print('MSE : {} \\nMAE : {} \\nRMSE : {} \\nR2_score : {}'.format(mse,mae,rmse,r2_score))"
   ]
  },
  {
   "cell_type": "markdown",
   "metadata": {},
   "source": [
    "#### Polynomial Regression (degree=2)"
   ]
  },
  {
   "cell_type": "code",
   "execution_count": 55,
   "metadata": {},
   "outputs": [],
   "source": [
    "## Transforming data to polynomial feature\n",
    "pf=PolynomialFeatures(degree=2)\n",
    "pf_xtrain=pf.fit_transform(xtrain)\n",
    "pf_xtest=pf.fit_transform(xtest)"
   ]
  },
  {
   "cell_type": "code",
   "execution_count": 56,
   "metadata": {},
   "outputs": [
    {
     "data": {
      "text/plain": [
       "LinearRegression()"
      ]
     },
     "execution_count": 56,
     "metadata": {},
     "output_type": "execute_result"
    }
   ],
   "source": [
    "## Model Training of polynomial transformed data\n",
    "PRmodel=LinearRegression()\n",
    "PRmodel.fit(pf_xtrain,ytrain)"
   ]
  },
  {
   "cell_type": "code",
   "execution_count": 57,
   "metadata": {},
   "outputs": [],
   "source": [
    "## Model Testing\n",
    "ypred=PRmodel.predict(pf_xtest)"
   ]
  },
  {
   "cell_type": "code",
   "execution_count": 58,
   "metadata": {},
   "outputs": [
    {
     "name": "stdout",
     "output_type": "stream",
     "text": [
      "MSE : 899701.8926 \n",
      "MAE : 745.5085 \n",
      "RMSE : 948.5262 \n",
      "R2_score : 0.8725\n"
     ]
    }
   ],
   "source": [
    "##Evaluation of Model\n",
    "from sklearn.metrics import mean_absolute_error,mean_squared_error,r2_score\n",
    "mae=mean_absolute_error(ytest,ypred).round(4)\n",
    "mse=mean_squared_error(ytest,ypred).round(4)\n",
    "rmse=np.sqrt(mse).round(4)\n",
    "r2_score=r2_score(ytest,ypred).round(4)\n",
    "print('MSE : {} \\nMAE : {} \\nRMSE : {} \\nR2_score : {}'.format(mse,mae,rmse,r2_score))"
   ]
  },
  {
   "cell_type": "code",
   "execution_count": 59,
   "metadata": {},
   "outputs": [
    {
     "name": "stdout",
     "output_type": "stream",
     "text": [
      "Polynomial Regression on training data: 0.875\n",
      "Polynomial Regression on testing data: 0.8725\n"
     ]
    }
   ],
   "source": [
    "## Checking training and testing score for checking underfitting and overfitting\n",
    "print(\"Polynomial Regression on training data:\",PRmodel.score(pf_xtrain,ytrain).round(4))\n",
    "print(\"Polynomial Regression on testing data:\",PRmodel.score(pf_xtest,ytest).round(4))"
   ]
  },
  {
   "cell_type": "markdown",
   "metadata": {},
   "source": [
    "Model is Perfectly fit."
   ]
  },
  {
   "cell_type": "markdown",
   "metadata": {},
   "source": [
    "#### Polynomial Regression on scaled data"
   ]
  },
  {
   "cell_type": "code",
   "execution_count": 60,
   "metadata": {},
   "outputs": [],
   "source": [
    "## Scaling Polynomial data of degree 2\n",
    "Psc_xtrain=sc.fit_transform(pf_xtrain)\n",
    "Psc_xtest=sc.fit_transform(pf_xtest)"
   ]
  },
  {
   "cell_type": "code",
   "execution_count": 61,
   "metadata": {},
   "outputs": [
    {
     "data": {
      "text/plain": [
       "LinearRegression()"
      ]
     },
     "execution_count": 61,
     "metadata": {},
     "output_type": "execute_result"
    }
   ],
   "source": [
    "## Model Training\n",
    "PRmodel=LinearRegression()\n",
    "PRmodel.fit(Psc_xtrain,ytrain)"
   ]
  },
  {
   "cell_type": "code",
   "execution_count": 62,
   "metadata": {},
   "outputs": [],
   "source": [
    "## Model Testing\n",
    "ypred=PRmodel.predict(Psc_xtest)"
   ]
  },
  {
   "cell_type": "code",
   "execution_count": 63,
   "metadata": {},
   "outputs": [
    {
     "name": "stdout",
     "output_type": "stream",
     "text": [
      "MSE : 955207.3451 \n",
      "MAE : 775.4388 \n",
      "RMSE : 977.3471 \n",
      "R2_score : 0.8647\n"
     ]
    }
   ],
   "source": [
    "##Evaluation of model\n",
    "from sklearn.metrics import mean_absolute_error,mean_squared_error,r2_score\n",
    "mae=mean_absolute_error(ytest,ypred).round(4)\n",
    "mse=mean_squared_error(ytest,ypred).round(4)\n",
    "rmse=np.sqrt(mse).round(4)\n",
    "r2_score=r2_score(ytest,ypred).round(4)\n",
    "print('MSE : {} \\nMAE : {} \\nRMSE : {} \\nR2_score : {}'.format(mse,mae,rmse,r2_score))"
   ]
  },
  {
   "cell_type": "markdown",
   "metadata": {},
   "source": [
    "## 3.Implementation of Ridge Regression"
   ]
  },
  {
   "cell_type": "code",
   "execution_count": 64,
   "metadata": {},
   "outputs": [],
   "source": [
    "## Defining Dependent variable as y and independent variable as x\n",
    "x=df2.drop(columns=[\"Price\"])\n",
    "y=df2[\"Price\"]"
   ]
  },
  {
   "cell_type": "code",
   "execution_count": 65,
   "metadata": {},
   "outputs": [],
   "source": [
    "## Splitting data into train and test\n",
    "from sklearn.model_selection import train_test_split\n",
    "xtrain,xtest,ytrain,ytest=train_test_split(x,y,test_size=0.2,random_state=42)"
   ]
  },
  {
   "cell_type": "markdown",
   "metadata": {},
   "source": [
    "### Ridge on Linear Data"
   ]
  },
  {
   "cell_type": "code",
   "execution_count": 66,
   "metadata": {},
   "outputs": [
    {
     "data": {
      "text/plain": [
       "Ridge(alpha=0.1)"
      ]
     },
     "execution_count": 66,
     "metadata": {},
     "output_type": "execute_result"
    }
   ],
   "source": [
    "## Model Training\n",
    "from sklearn.linear_model import Ridge\n",
    "LRridge=Ridge(alpha=0.1)\n",
    "LRridge.fit(xtrain,ytrain)"
   ]
  },
  {
   "cell_type": "code",
   "execution_count": 67,
   "metadata": {},
   "outputs": [],
   "source": [
    "## ModelTesting\n",
    "ypred=LRridge.predict(xtest)"
   ]
  },
  {
   "cell_type": "code",
   "execution_count": 68,
   "metadata": {},
   "outputs": [
    {
     "name": "stdout",
     "output_type": "stream",
     "text": [
      "MAE : 749.3031 \n",
      "MSE : 939634.2085 \n",
      "RMSE : 969.3473 \n",
      "R2_score : 0.8669\n"
     ]
    }
   ],
   "source": [
    "## Evaluation of model\n",
    "from sklearn.metrics import mean_absolute_error,mean_squared_error,r2_score\n",
    "mae=mean_absolute_error(ytest,ypred).round(4)\n",
    "mse=mean_squared_error(ytest,ypred).round(4)\n",
    "rmse=np.sqrt(mse).round(4)\n",
    "r2_score=r2_score(ytest,ypred).round(4)\n",
    "print('MAE : {} \\nMSE : {} \\nRMSE : {} \\nR2_score : {}'.format(mae,mse,rmse,r2_score))"
   ]
  },
  {
   "cell_type": "code",
   "execution_count": 69,
   "metadata": {},
   "outputs": [
    {
     "name": "stdout",
     "output_type": "stream",
     "text": [
      "Linear Ridge Regression on training data: 0.8618\n",
      "Linear Ridge Regression on testing data: 0.8669\n"
     ]
    }
   ],
   "source": [
    "## Checking training and testing score for checking underfitting and overfitting\n",
    "print(\"Linear Ridge Regression on training data:\",LRridge.score(xtrain,ytrain).round(4))\n",
    "print(\"Linear Ridge Regression on testing data:\",LRridge.score(xtest,ytest).round(4))"
   ]
  },
  {
   "cell_type": "markdown",
   "metadata": {},
   "source": [
    "Model is Perfectly fit."
   ]
  },
  {
   "cell_type": "markdown",
   "metadata": {},
   "source": [
    "#### Linear  Ridge on scaled data"
   ]
  },
  {
   "cell_type": "code",
   "execution_count": 70,
   "metadata": {},
   "outputs": [
    {
     "data": {
      "text/plain": [
       "Ridge(alpha=0.1)"
      ]
     },
     "execution_count": 70,
     "metadata": {},
     "output_type": "execute_result"
    }
   ],
   "source": [
    "LRridge=Ridge(alpha=0.1)\n",
    "LRridge.fit(sc_xtrain,ytrain)"
   ]
  },
  {
   "cell_type": "code",
   "execution_count": 71,
   "metadata": {},
   "outputs": [],
   "source": [
    "## ModelTesting\n",
    "ypred=LRmodel.predict(sc_xtest)"
   ]
  },
  {
   "cell_type": "code",
   "execution_count": 72,
   "metadata": {},
   "outputs": [
    {
     "name": "stdout",
     "output_type": "stream",
     "text": [
      "MAE : 12587.4648 \n",
      "MSE : 164971710.8169 \n",
      "RMSE : 12844.1314 \n",
      "R2_score : -22.3743\n"
     ]
    }
   ],
   "source": [
    "## Evaluation of model\n",
    "from sklearn.metrics import mean_absolute_error,mean_squared_error,r2_score\n",
    "mae=mean_absolute_error(ytest,ypred).round(4)\n",
    "mse=mean_squared_error(ytest,ypred).round(4)\n",
    "rmse=np.sqrt(mse).round(4)\n",
    "r2_score=r2_score(ytest,ypred).round(4)\n",
    "print('MAE : {} \\nMSE : {} \\nRMSE : {} \\nR2_score : {}'.format(mae,mse,rmse,r2_score))"
   ]
  },
  {
   "cell_type": "markdown",
   "metadata": {},
   "source": [
    "#### Tuning of linear Ridge Model"
   ]
  },
  {
   "cell_type": "code",
   "execution_count": 73,
   "metadata": {},
   "outputs": [
    {
     "name": "stdout",
     "output_type": "stream",
     "text": [
      "Best Parameter: {'alpha': 0.0001}\n"
     ]
    }
   ],
   "source": [
    "#model\n",
    "model=Ridge()\n",
    "\n",
    "## parameters\n",
    "alpha=[0.0001,0.001,0.01,0.1,1,10]\n",
    "\n",
    "#grid\n",
    "grid=dict(alpha=alpha)\n",
    "\n",
    "##cv\n",
    "from sklearn.model_selection import RepeatedStratifiedKFold\n",
    "cv=RepeatedStratifiedKFold(n_splits=10,n_repeats=3,random_state=42)\n",
    "\n",
    "##GridSearchCV\n",
    "from sklearn.model_selection import GridSearchCV\n",
    "grid_cv=GridSearchCV(estimator=model,param_grid=grid,cv=cv,scoring='accuracy')\n",
    "\n",
    "##result\n",
    "res=grid_cv.fit(xtrain,ytrain)\n",
    "print(\"Best Parameter:\",res.best_params_)\n"
   ]
  },
  {
   "cell_type": "code",
   "execution_count": 74,
   "metadata": {},
   "outputs": [
    {
     "name": "stdout",
     "output_type": "stream",
     "text": [
      "Best Parameter: {'alpha': 0.0001}\n"
     ]
    }
   ],
   "source": [
    "print(\"Best Parameter:\",res.best_params_)"
   ]
  },
  {
   "cell_type": "code",
   "execution_count": 75,
   "metadata": {},
   "outputs": [
    {
     "data": {
      "text/plain": [
       "Ridge(alpha=0.0001)"
      ]
     },
     "execution_count": 75,
     "metadata": {},
     "output_type": "execute_result"
    }
   ],
   "source": [
    "## Retraining Linear Ridge model\n",
    "LRridge=Ridge(alpha=0.0001)\n",
    "LRridge.fit(xtrain,ytrain)"
   ]
  },
  {
   "cell_type": "code",
   "execution_count": 76,
   "metadata": {},
   "outputs": [],
   "source": [
    "#Re-Testing of Linear ridge model\n",
    "ypred=LRmodel.predict(xtest)"
   ]
  },
  {
   "cell_type": "code",
   "execution_count": 77,
   "metadata": {},
   "outputs": [
    {
     "name": "stdout",
     "output_type": "stream",
     "text": [
      "MSE : 939633.8989 \n",
      "MAE : 749.3032 \n",
      "RMSE : 969.3472 \n",
      "R2_score : 0.8669\n"
     ]
    }
   ],
   "source": [
    "## RE-Evaluation of Linear ridge model\n",
    "from sklearn.metrics import mean_absolute_error,mean_squared_error,r2_score\n",
    "mae=mean_absolute_error(ytest,ypred).round(4)\n",
    "mse=mean_squared_error(ytest,ypred).round(4)\n",
    "rmse=np.sqrt(mse).round(4)\n",
    "r2_score=r2_score(ytest,ypred).round(4)\n",
    "print('MSE : {} \\nMAE : {} \\nRMSE : {} \\nR2_score : {}'.format(mse,mae,rmse,r2_score))"
   ]
  },
  {
   "cell_type": "markdown",
   "metadata": {},
   "source": [
    "### Ridge on Polynomial Data"
   ]
  },
  {
   "cell_type": "code",
   "execution_count": 78,
   "metadata": {},
   "outputs": [],
   "source": [
    "## Polynomial Transformation\n",
    "pf=PolynomialFeatures(degree=2)\n",
    "pf_xtrain=pf.fit_transform(xtrain)\n",
    "pf_xtest=pf.fit_transform(xtest)"
   ]
  },
  {
   "cell_type": "code",
   "execution_count": 79,
   "metadata": {},
   "outputs": [
    {
     "data": {
      "text/plain": [
       "Ridge(alpha=0.1)"
      ]
     },
     "execution_count": 79,
     "metadata": {},
     "output_type": "execute_result"
    }
   ],
   "source": [
    "# Model Training on polynomial transformed data\n",
    "PRridge=Ridge(alpha=0.1)\n",
    "PRridge.fit(pf_xtrain,ytrain)"
   ]
  },
  {
   "cell_type": "code",
   "execution_count": 80,
   "metadata": {},
   "outputs": [],
   "source": [
    "## Model Testing\n",
    "ypred=PRridge.predict(pf_xtest)"
   ]
  },
  {
   "cell_type": "code",
   "execution_count": 81,
   "metadata": {},
   "outputs": [
    {
     "name": "stdout",
     "output_type": "stream",
     "text": [
      "MSE : 899687.5461 \n",
      "MAE : 745.5086 \n",
      "RMSE : 948.5186 \n",
      "R2_score : 0.8725\n"
     ]
    }
   ],
   "source": [
    "## Evaluation of model\n",
    "from sklearn.metrics import mean_absolute_error,mean_squared_error,r2_score\n",
    "mae=mean_absolute_error(ytest,ypred).round(4)\n",
    "mse=mean_squared_error(ytest,ypred).round(4)\n",
    "rmse=np.sqrt(mse).round(4)\n",
    "r2_score=r2_score(ytest,ypred).round(4)\n",
    "print('MSE : {} \\nMAE : {} \\nRMSE : {} \\nR2_score : {}'.format(mse,mae,rmse,r2_score))"
   ]
  },
  {
   "cell_type": "code",
   "execution_count": 82,
   "metadata": {},
   "outputs": [
    {
     "name": "stdout",
     "output_type": "stream",
     "text": [
      "Polynomial Ridge Regression on training data: 0.875\n",
      "Polynomial Ridge Regression on testing data: 0.8725\n"
     ]
    }
   ],
   "source": [
    "## Checking training and testing score for checking underfitting and overfitting\n",
    "print(\"Polynomial Ridge Regression on training data:\",PRridge.score(pf_xtrain,ytrain).round(4))\n",
    "print(\"Polynomial Ridge Regression on testing data:\",PRridge.score(pf_xtest,ytest).round(4))"
   ]
  },
  {
   "cell_type": "markdown",
   "metadata": {},
   "source": [
    "Model is Perfeclty Fit."
   ]
  },
  {
   "cell_type": "markdown",
   "metadata": {},
   "source": [
    "#### Polynomial Ridge on Scaled Data"
   ]
  },
  {
   "cell_type": "code",
   "execution_count": 83,
   "metadata": {},
   "outputs": [
    {
     "data": {
      "text/plain": [
       "Ridge(alpha=0.1)"
      ]
     },
     "execution_count": 83,
     "metadata": {},
     "output_type": "execute_result"
    }
   ],
   "source": [
    "PRridge=Ridge(alpha=0.1)\n",
    "PRridge.fit(Psc_xtrain,ytrain)"
   ]
  },
  {
   "cell_type": "code",
   "execution_count": 84,
   "metadata": {},
   "outputs": [],
   "source": [
    "## Model Testing\n",
    "ypred=PRridge.predict(Psc_xtest)"
   ]
  },
  {
   "cell_type": "code",
   "execution_count": 85,
   "metadata": {},
   "outputs": [
    {
     "name": "stdout",
     "output_type": "stream",
     "text": [
      "MSE : 923716.8367 \n",
      "MAE : 764.1318 \n",
      "RMSE : 961.1019 \n",
      "R2_score : 0.8691\n"
     ]
    }
   ],
   "source": [
    "## Evaluation of model\n",
    "from sklearn.metrics import mean_absolute_error,mean_squared_error,r2_score\n",
    "mae=mean_absolute_error(ytest,ypred).round(4)\n",
    "mse=mean_squared_error(ytest,ypred).round(4)\n",
    "rmse=np.sqrt(mse).round(4)\n",
    "r2_score=r2_score(ytest,ypred).round(4)\n",
    "print('MSE : {} \\nMAE : {} \\nRMSE : {} \\nR2_score : {}'.format(mse,mae,rmse,r2_score))"
   ]
  },
  {
   "cell_type": "markdown",
   "metadata": {},
   "source": [
    "#### Tuning of Polynomial Ridge Model"
   ]
  },
  {
   "cell_type": "code",
   "execution_count": 86,
   "metadata": {},
   "outputs": [
    {
     "name": "stdout",
     "output_type": "stream",
     "text": [
      "Best Parameter: {'alpha': 0.0001}\n"
     ]
    }
   ],
   "source": [
    "#model\n",
    "model=Ridge()\n",
    "\n",
    "#Parameters\n",
    "alpha=[0.0001,0.001,0.01,0.1,1,10]\n",
    "\n",
    "# grid\n",
    "grid=dict(alpha=alpha)\n",
    "\n",
    "#cv\n",
    "from sklearn.model_selection import RepeatedStratifiedKFold\n",
    "cv=RepeatedStratifiedKFold(n_splits=10,n_repeats=3,random_state=42)\n",
    "\n",
    "# GridSearchCV\n",
    "from sklearn.model_selection import GridSearchCV\n",
    "grid_cv=GridSearchCV(estimator=model,param_grid=grid,cv=cv,scoring='accuracy')\n",
    "\n",
    "#result\n",
    "res=grid_cv.fit(pf_xtrain,ytrain)\n",
    "print(\"Best Parameter:\",res.best_params_)"
   ]
  },
  {
   "cell_type": "code",
   "execution_count": 87,
   "metadata": {},
   "outputs": [
    {
     "name": "stdout",
     "output_type": "stream",
     "text": [
      "Best Parameter: {'alpha': 0.0001}\n"
     ]
    }
   ],
   "source": [
    "print(\"Best Parameter:\",res.best_params_)"
   ]
  },
  {
   "cell_type": "code",
   "execution_count": 88,
   "metadata": {},
   "outputs": [
    {
     "data": {
      "text/plain": [
       "Ridge(alpha=0.0001)"
      ]
     },
     "execution_count": 88,
     "metadata": {},
     "output_type": "execute_result"
    }
   ],
   "source": [
    "## Retraining Polynomial ridge model\n",
    "PRridge=Ridge(alpha=0.0001)\n",
    "PRridge.fit(pf_xtrain,ytrain)"
   ]
  },
  {
   "cell_type": "code",
   "execution_count": 89,
   "metadata": {},
   "outputs": [],
   "source": [
    "# Re-Testing of Polynomial ridge model\n",
    "ypred=PRmodel.predict(pf_xtest)"
   ]
  },
  {
   "cell_type": "code",
   "execution_count": 90,
   "metadata": {},
   "outputs": [
    {
     "name": "stdout",
     "output_type": "stream",
     "text": [
      "MSE : 9.851161773143951e+40 \n",
      "MAE : 2.851753161532859e+20 \n",
      "RMSE : 3.138656045689612e+20 \n",
      "R2_score : -1.395779574452548e+34\n"
     ]
    }
   ],
   "source": [
    "## Re-Evaluation of Polynomial ridge model\n",
    "from sklearn.metrics import mean_absolute_error,mean_squared_error,r2_score\n",
    "mae=mean_absolute_error(ytest,ypred).round(4)\n",
    "mse=mean_squared_error(ytest,ypred).round(4)\n",
    "rmse=np.sqrt(mse).round(4)\n",
    "r2_score=r2_score(ytest,ypred).round(4)\n",
    "print('MSE : {} \\nMAE : {} \\nRMSE : {} \\nR2_score : {}'.format(mse,mae,rmse,r2_score))"
   ]
  },
  {
   "cell_type": "markdown",
   "metadata": {},
   "source": [
    "## 4.Implementation of Lasso"
   ]
  },
  {
   "cell_type": "code",
   "execution_count": 91,
   "metadata": {},
   "outputs": [],
   "source": [
    "## Defining Dependent variable as y and independent variable as x\n",
    "x=df2.drop(columns=[\"Price\",\"Gears\"])\n",
    "y=df2[\"Price\"]"
   ]
  },
  {
   "cell_type": "code",
   "execution_count": 92,
   "metadata": {},
   "outputs": [],
   "source": [
    "## Splitting data into train and test\n",
    "from sklearn.model_selection import train_test_split\n",
    "xtrain,xtest,ytrain,ytest=train_test_split(x,y,test_size=0.2,random_state=42)"
   ]
  },
  {
   "cell_type": "markdown",
   "metadata": {},
   "source": [
    "### Lasso on Linear Data"
   ]
  },
  {
   "cell_type": "code",
   "execution_count": 93,
   "metadata": {},
   "outputs": [
    {
     "data": {
      "text/plain": [
       "Lasso(alpha=0.1)"
      ]
     },
     "execution_count": 93,
     "metadata": {},
     "output_type": "execute_result"
    }
   ],
   "source": [
    "# Lasso Model Training on linear data\n",
    "from sklearn.linear_model import Lasso\n",
    "LRlasso=Lasso(alpha=0.1)\n",
    "LRlasso.fit(xtrain,ytrain)"
   ]
  },
  {
   "cell_type": "code",
   "execution_count": 94,
   "metadata": {},
   "outputs": [],
   "source": [
    "## Model Testing\n",
    "ypred=LRlasso.predict(xtest)"
   ]
  },
  {
   "cell_type": "code",
   "execution_count": 95,
   "metadata": {},
   "outputs": [
    {
     "name": "stdout",
     "output_type": "stream",
     "text": [
      "MSE : 939642.3223 \n",
      "MAE : 749.3016 \n",
      "RMSE : 969.3515 \n",
      "R2_score : 0.8669\n"
     ]
    }
   ],
   "source": [
    "## Model Evaluation\n",
    "from sklearn.metrics import mean_absolute_error,mean_squared_error,r2_score\n",
    "mae=mean_absolute_error(ytest,ypred).round(4)\n",
    "mse=mean_squared_error(ytest,ypred).round(4)\n",
    "rmse=np.sqrt(mse).round(4)\n",
    "r2_score=r2_score(ytest,ypred).round(4)\n",
    "print('MSE : {} \\nMAE : {} \\nRMSE : {} \\nR2_score : {}'.format(mse,mae,rmse,r2_score))"
   ]
  },
  {
   "cell_type": "code",
   "execution_count": 96,
   "metadata": {},
   "outputs": [
    {
     "name": "stdout",
     "output_type": "stream",
     "text": [
      "Linear Lasso Regression on training data: 0.8618\n",
      "Linear Lasso Regression on testing data: 0.8669\n"
     ]
    }
   ],
   "source": [
    "## Checking training and testing score for checking underfitting and overfitting\n",
    "print(\"Linear Lasso Regression on training data:\",LRlasso.score(xtrain,ytrain).round(4))\n",
    "print(\"Linear Lasso Regression on testing data:\",LRlasso.score(xtest,ytest).round(4))"
   ]
  },
  {
   "cell_type": "markdown",
   "metadata": {},
   "source": [
    "Model is perfeclty fit."
   ]
  },
  {
   "cell_type": "markdown",
   "metadata": {},
   "source": [
    "#### Linear Lasso on scaled data"
   ]
  },
  {
   "cell_type": "code",
   "execution_count": 97,
   "metadata": {},
   "outputs": [
    {
     "data": {
      "text/plain": [
       "Lasso(alpha=0.1)"
      ]
     },
     "execution_count": 97,
     "metadata": {},
     "output_type": "execute_result"
    }
   ],
   "source": [
    "## ModelTraining\n",
    "LRlasso=Lasso(alpha=0.1)\n",
    "LRlasso.fit(sc_xtrain,ytrain)"
   ]
  },
  {
   "cell_type": "code",
   "execution_count": 98,
   "metadata": {},
   "outputs": [],
   "source": [
    "## Model Testing\n",
    "ypred=LRlasso.predict(sc_xtest)"
   ]
  },
  {
   "cell_type": "code",
   "execution_count": 99,
   "metadata": {},
   "outputs": [
    {
     "name": "stdout",
     "output_type": "stream",
     "text": [
      "MSE : 953778.382 \n",
      "MAE : 760.2765 \n",
      "RMSE : 976.6158 \n",
      "R2_score : 0.8649\n"
     ]
    }
   ],
   "source": [
    "## Model Evaluation\n",
    "from sklearn.metrics import mean_absolute_error,mean_squared_error,r2_score\n",
    "mae=mean_absolute_error(ytest,ypred).round(4)\n",
    "mse=mean_squared_error(ytest,ypred).round(4)\n",
    "rmse=np.sqrt(mse).round(4)\n",
    "r2_score=r2_score(ytest,ypred).round(4)\n",
    "print('MSE : {} \\nMAE : {} \\nRMSE : {} \\nR2_score : {}'.format(mse,mae,rmse,r2_score))"
   ]
  },
  {
   "cell_type": "markdown",
   "metadata": {},
   "source": [
    "#### Tuning of linear lasso"
   ]
  },
  {
   "cell_type": "code",
   "execution_count": 100,
   "metadata": {},
   "outputs": [
    {
     "name": "stdout",
     "output_type": "stream",
     "text": [
      "Best Parameter: {'alpha': 0.0001}\n"
     ]
    }
   ],
   "source": [
    "#model\n",
    "model=Lasso()\n",
    "\n",
    "#Parameters\n",
    "alpha=[0.0001,0.001,0.01,0.1,1,10]\n",
    "\n",
    "# grid\n",
    "grid=dict(alpha=alpha)\n",
    "\n",
    "#cv\n",
    "from sklearn.model_selection import RepeatedStratifiedKFold\n",
    "cv=RepeatedStratifiedKFold(n_splits=10,n_repeats=3,random_state=42)\n",
    "\n",
    "# GridSearchCV\n",
    "from sklearn.model_selection import GridSearchCV\n",
    "grid_cv=GridSearchCV(estimator=model,param_grid=grid,cv=cv,scoring='accuracy')\n",
    "\n",
    "#result\n",
    "res=grid_cv.fit(xtrain,ytrain)\n",
    "print(\"Best Parameter:\",res.best_params_)"
   ]
  },
  {
   "cell_type": "code",
   "execution_count": 101,
   "metadata": {},
   "outputs": [
    {
     "name": "stdout",
     "output_type": "stream",
     "text": [
      "Best Parameter: {'alpha': 0.0001}\n"
     ]
    }
   ],
   "source": [
    "print(\"Best Parameter:\",res.best_params_)"
   ]
  },
  {
   "cell_type": "code",
   "execution_count": 102,
   "metadata": {},
   "outputs": [
    {
     "data": {
      "text/plain": [
       "Lasso(alpha=0.0001)"
      ]
     },
     "execution_count": 102,
     "metadata": {},
     "output_type": "execute_result"
    }
   ],
   "source": [
    "## Retraining Linear lasso\n",
    "LRlasso=Lasso(alpha=0.0001)\n",
    "LRlasso.fit(xtrain,ytrain)"
   ]
  },
  {
   "cell_type": "code",
   "execution_count": 103,
   "metadata": {},
   "outputs": [],
   "source": [
    "ypred=LRlasso.predict(xtest)"
   ]
  },
  {
   "cell_type": "code",
   "execution_count": 104,
   "metadata": {},
   "outputs": [
    {
     "name": "stdout",
     "output_type": "stream",
     "text": [
      "MSE : 939633.9073 \n",
      "MAE : 749.3032 \n",
      "RMSE : 969.3472 \n",
      "R2_score : 0.8669\n"
     ]
    }
   ],
   "source": [
    "## Model Evaluation\n",
    "from sklearn.metrics import mean_absolute_error,mean_squared_error,r2_score\n",
    "mae=mean_absolute_error(ytest,ypred).round(4)\n",
    "mse=mean_squared_error(ytest,ypred).round(4)\n",
    "rmse=np.sqrt(mse).round(4)\n",
    "r2_score=r2_score(ytest,ypred).round(4)\n",
    "print('MSE : {} \\nMAE : {} \\nRMSE : {} \\nR2_score : {}'.format(mse,mae,rmse,r2_score))"
   ]
  },
  {
   "cell_type": "markdown",
   "metadata": {},
   "source": [
    "### Lasso on polynomial data"
   ]
  },
  {
   "cell_type": "code",
   "execution_count": 105,
   "metadata": {},
   "outputs": [
    {
     "data": {
      "text/plain": [
       "Lasso(alpha=0.1)"
      ]
     },
     "execution_count": 105,
     "metadata": {},
     "output_type": "execute_result"
    }
   ],
   "source": [
    "PRlasso=Lasso(alpha=0.1)\n",
    "PRlasso.fit(pf_xtrain,ytrain)"
   ]
  },
  {
   "cell_type": "code",
   "execution_count": 106,
   "metadata": {},
   "outputs": [],
   "source": [
    "ypred=PRlasso.predict(pf_xtest)"
   ]
  },
  {
   "cell_type": "code",
   "execution_count": 107,
   "metadata": {},
   "outputs": [
    {
     "name": "stdout",
     "output_type": "stream",
     "text": [
      "MSE : 898504.8679 \n",
      "MAE : 746.8621 \n",
      "RMSE : 947.895 \n",
      "R2_score : 0.8727\n"
     ]
    }
   ],
   "source": [
    "## Model Evaluation\n",
    "from sklearn.metrics import mean_absolute_error,mean_squared_error,r2_score\n",
    "mae=mean_absolute_error(ytest,ypred).round(4)\n",
    "mse=mean_squared_error(ytest,ypred).round(4)\n",
    "rmse=np.sqrt(mse).round(4)\n",
    "r2_score=r2_score(ytest,ypred).round(4)\n",
    "print('MSE : {} \\nMAE : {} \\nRMSE : {} \\nR2_score : {}'.format(mse,mae,rmse,r2_score))"
   ]
  },
  {
   "cell_type": "code",
   "execution_count": 108,
   "metadata": {},
   "outputs": [
    {
     "name": "stdout",
     "output_type": "stream",
     "text": [
      "Polynomial Lasso Regression on training data: 0.874\n",
      "Polynomial Lasso Regression on testing data: 0.8727\n"
     ]
    }
   ],
   "source": [
    "## Checking training and testing score for checking underfitting and overfitting\n",
    "print(\"Polynomial Lasso Regression on training data:\",PRlasso.score(pf_xtrain,ytrain).round(4))\n",
    "print(\"Polynomial Lasso Regression on testing data:\",PRlasso.score(pf_xtest,ytest).round(4))"
   ]
  },
  {
   "cell_type": "markdown",
   "metadata": {},
   "source": [
    "Model is Perfectly fit."
   ]
  },
  {
   "cell_type": "markdown",
   "metadata": {},
   "source": [
    "#### Polynomial lasso on scaled data"
   ]
  },
  {
   "cell_type": "code",
   "execution_count": 109,
   "metadata": {},
   "outputs": [
    {
     "data": {
      "text/plain": [
       "Lasso(alpha=0.1)"
      ]
     },
     "execution_count": 109,
     "metadata": {},
     "output_type": "execute_result"
    }
   ],
   "source": [
    "LRlasso=Lasso(alpha=0.1)\n",
    "LRlasso.fit(Psc_xtrain,ytrain)"
   ]
  },
  {
   "cell_type": "code",
   "execution_count": 110,
   "metadata": {},
   "outputs": [],
   "source": [
    "ypred=LRlasso.predict(Psc_xtest)"
   ]
  },
  {
   "cell_type": "code",
   "execution_count": 111,
   "metadata": {},
   "outputs": [
    {
     "name": "stdout",
     "output_type": "stream",
     "text": [
      "MSE : 910317.0543 \n",
      "MAE : 760.743 \n",
      "RMSE : 954.1054 \n",
      "R2_score : 0.871\n"
     ]
    }
   ],
   "source": [
    "## Model Evaluation\n",
    "from sklearn.metrics import mean_absolute_error,mean_squared_error,r2_score\n",
    "mae=mean_absolute_error(ytest,ypred).round(4)\n",
    "mse=mean_squared_error(ytest,ypred).round(4)\n",
    "rmse=np.sqrt(mse).round(4)\n",
    "r2_score=r2_score(ytest,ypred).round(4)\n",
    "print('MSE : {} \\nMAE : {} \\nRMSE : {} \\nR2_score : {}'.format(mse,mae,rmse,r2_score))"
   ]
  },
  {
   "cell_type": "markdown",
   "metadata": {},
   "source": [
    "#### Tuning of Polynomial Lasso"
   ]
  },
  {
   "cell_type": "code",
   "execution_count": 112,
   "metadata": {},
   "outputs": [
    {
     "name": "stdout",
     "output_type": "stream",
     "text": [
      "Best Parameter: {'alpha': 0.0001}\n"
     ]
    }
   ],
   "source": [
    "#model\n",
    "model=Lasso()\n",
    "\n",
    "#Parameters\n",
    "alpha=[0.0001,0.001,0.01,0.1,1,10]\n",
    "\n",
    "\n",
    "\n",
    "# grid\n",
    "grid=dict(alpha=alpha)\n",
    "\n",
    "#cv\n",
    "from sklearn.model_selection import RepeatedStratifiedKFold\n",
    "cv=RepeatedStratifiedKFold(n_splits=10,n_repeats=3,random_state=42)\n",
    "\n",
    "# GridSearchCV\n",
    "from sklearn.model_selection import GridSearchCV\n",
    "grid_cv=GridSearchCV(estimator=model,param_grid=grid,cv=cv,scoring='accuracy')\n",
    "\n",
    "#result\n",
    "res=grid_cv.fit(pf_xtrain,ytrain)\n",
    "print(\"Best Parameter:\",res.best_params_)"
   ]
  },
  {
   "cell_type": "code",
   "execution_count": 113,
   "metadata": {},
   "outputs": [
    {
     "name": "stdout",
     "output_type": "stream",
     "text": [
      "Best Parameter: {'alpha': 0.0001}\n"
     ]
    }
   ],
   "source": [
    "print(\"Best Parameter:\",res.best_params_)"
   ]
  },
  {
   "cell_type": "code",
   "execution_count": 114,
   "metadata": {},
   "outputs": [
    {
     "data": {
      "text/plain": [
       "Lasso(alpha=0.0001)"
      ]
     },
     "execution_count": 114,
     "metadata": {},
     "output_type": "execute_result"
    }
   ],
   "source": [
    "PRlasso=Lasso(alpha=0.0001)\n",
    "PRlasso.fit(pf_xtrain,ytrain)"
   ]
  },
  {
   "cell_type": "code",
   "execution_count": 115,
   "metadata": {},
   "outputs": [],
   "source": [
    "ypred=PRlasso.predict(pf_xtest)"
   ]
  },
  {
   "cell_type": "code",
   "execution_count": 116,
   "metadata": {},
   "outputs": [
    {
     "name": "stdout",
     "output_type": "stream",
     "text": [
      "MSE : 898056.84 \n",
      "MAE : 746.7019 \n",
      "RMSE : 947.6586 \n",
      "R2_score : 0.8728\n"
     ]
    }
   ],
   "source": [
    "## Model Evaluation\n",
    "from sklearn.metrics import mean_absolute_error,mean_squared_error,r2_score\n",
    "mae=mean_absolute_error(ytest,ypred).round(4)\n",
    "mse=mean_squared_error(ytest,ypred).round(4)\n",
    "rmse=np.sqrt(mse).round(4)\n",
    "r2_score=r2_score(ytest,ypred).round(4)\n",
    "print('MSE : {} \\nMAE : {} \\nRMSE : {} \\nR2_score : {}'.format(mse,mae,rmse,r2_score))"
   ]
  },
  {
   "cell_type": "markdown",
   "metadata": {},
   "source": [
    "## 5.ElasticNetCV"
   ]
  },
  {
   "cell_type": "code",
   "execution_count": 117,
   "metadata": {},
   "outputs": [],
   "source": [
    "## Defining Dependent variable as y and independent variable as x\n",
    "x=df2.drop(columns=[\"Price\",\"Gears\"])\n",
    "y=df2[\"Price\"]"
   ]
  },
  {
   "cell_type": "code",
   "execution_count": 118,
   "metadata": {},
   "outputs": [],
   "source": [
    "## Splitting data into train and test\n",
    "from sklearn.model_selection import train_test_split\n",
    "xtrain,xtest,ytrain,ytest=train_test_split(x,y,test_size=0.2,random_state=42)"
   ]
  },
  {
   "cell_type": "code",
   "execution_count": 119,
   "metadata": {},
   "outputs": [],
   "source": [
    "## Alpha Values\n",
    "alpha=[0.0001,0.001,0.01,0.1,1,10]"
   ]
  },
  {
   "cell_type": "markdown",
   "metadata": {},
   "source": [
    "### ElasticNetCV on linear data"
   ]
  },
  {
   "cell_type": "code",
   "execution_count": 120,
   "metadata": {},
   "outputs": [
    {
     "data": {
      "text/plain": [
       "ElasticNetCV(alphas=[0.0001, 0.001, 0.01, 0.1, 1, 10], cv=10)"
      ]
     },
     "execution_count": 120,
     "metadata": {},
     "output_type": "execute_result"
    }
   ],
   "source": [
    "## Model Training\n",
    "from sklearn.linear_model import ElasticNetCV\n",
    "ENCVmodel= ElasticNetCV(alphas=alpha,cv=10)\n",
    "ENCVmodel.fit(xtrain,ytrain)"
   ]
  },
  {
   "cell_type": "code",
   "execution_count": 121,
   "metadata": {},
   "outputs": [
    {
     "data": {
      "text/plain": [
       "1.0"
      ]
     },
     "execution_count": 121,
     "metadata": {},
     "output_type": "execute_result"
    }
   ],
   "source": [
    "## Checking best alpha\n",
    "ENCVmodel.alpha_"
   ]
  },
  {
   "cell_type": "code",
   "execution_count": 122,
   "metadata": {},
   "outputs": [],
   "source": [
    "## Model Testing\n",
    "ypred=ENCVmodel.predict(xtest)"
   ]
  },
  {
   "cell_type": "code",
   "execution_count": 123,
   "metadata": {},
   "outputs": [
    {
     "name": "stdout",
     "output_type": "stream",
     "text": [
      "MSE : 941142.035 \n",
      "MAE : 748.979 \n",
      "RMSE : 970.1248 \n",
      "R2_score : 0.8667\n"
     ]
    }
   ],
   "source": [
    "## Model Evaluation\n",
    "from sklearn.metrics import mean_absolute_error,mean_squared_error,r2_score\n",
    "mae=mean_absolute_error(ytest,ypred).round(4)\n",
    "mse=mean_squared_error(ytest,ypred).round(4)\n",
    "rmse=np.sqrt(mse).round(4)\n",
    "r2_score=r2_score(ytest,ypred).round(4)\n",
    "print('MSE : {} \\nMAE : {} \\nRMSE : {} \\nR2_score : {}'.format(mse,mae,rmse,r2_score))"
   ]
  },
  {
   "cell_type": "markdown",
   "metadata": {},
   "source": [
    "#### Linear ElasticNetCV on scaled data"
   ]
  },
  {
   "cell_type": "code",
   "execution_count": 124,
   "metadata": {},
   "outputs": [
    {
     "data": {
      "text/plain": [
       "ElasticNetCV(alphas=[0.0001, 0.001, 0.01, 0.1, 1, 10], cv=10)"
      ]
     },
     "execution_count": 124,
     "metadata": {},
     "output_type": "execute_result"
    }
   ],
   "source": [
    "## Model Training\n",
    "ENCVmodel= ElasticNetCV(alphas=alpha,cv=10)\n",
    "ENCVmodel.fit(sc_xtrain,ytrain)"
   ]
  },
  {
   "cell_type": "code",
   "execution_count": 125,
   "metadata": {},
   "outputs": [
    {
     "data": {
      "text/plain": [
       "0.01"
      ]
     },
     "execution_count": 125,
     "metadata": {},
     "output_type": "execute_result"
    }
   ],
   "source": [
    "## Checking best alpha\n",
    "ENCVmodel.alpha_"
   ]
  },
  {
   "cell_type": "code",
   "execution_count": 126,
   "metadata": {},
   "outputs": [],
   "source": [
    "## Model Testing\n",
    "ypred=ENCVmodel.predict(sc_xtest)"
   ]
  },
  {
   "cell_type": "code",
   "execution_count": 127,
   "metadata": {},
   "outputs": [
    {
     "name": "stdout",
     "output_type": "stream",
     "text": [
      "MSE : 953495.4443 \n",
      "MAE : 758.8568 \n",
      "RMSE : 976.4709 \n",
      "R2_score : 0.8649\n"
     ]
    }
   ],
   "source": [
    "## Model Evaluation\n",
    "from sklearn.metrics import mean_absolute_error,mean_squared_error,r2_score\n",
    "mae=mean_absolute_error(ytest,ypred).round(4)\n",
    "mse=mean_squared_error(ytest,ypred).round(4)\n",
    "rmse=np.sqrt(mse).round(4)\n",
    "r2_score=r2_score(ytest,ypred).round(4)\n",
    "print('MSE : {} \\nMAE : {} \\nRMSE : {} \\nR2_score : {}'.format(mse,mae,rmse,r2_score))"
   ]
  },
  {
   "cell_type": "code",
   "execution_count": null,
   "metadata": {},
   "outputs": [],
   "source": []
  },
  {
   "cell_type": "markdown",
   "metadata": {},
   "source": [
    "### ElasticNetCV on Polynomial data"
   ]
  },
  {
   "cell_type": "code",
   "execution_count": 128,
   "metadata": {},
   "outputs": [
    {
     "data": {
      "text/plain": [
       "ElasticNetCV(alphas=[0.0001, 0.001, 0.01, 0.1, 1, 10], cv=10)"
      ]
     },
     "execution_count": 128,
     "metadata": {},
     "output_type": "execute_result"
    }
   ],
   "source": [
    "## Model Training on poly data\n",
    "ENCVmodel= ElasticNetCV(alphas=alpha,cv=10)\n",
    "ENCVmodel.fit(pf_xtrain,ytrain)"
   ]
  },
  {
   "cell_type": "code",
   "execution_count": 129,
   "metadata": {},
   "outputs": [
    {
     "data": {
      "text/plain": [
       "10.0"
      ]
     },
     "execution_count": 129,
     "metadata": {},
     "output_type": "execute_result"
    }
   ],
   "source": [
    "## Checking best alpha\n",
    "ENCVmodel.alpha_"
   ]
  },
  {
   "cell_type": "code",
   "execution_count": 130,
   "metadata": {},
   "outputs": [],
   "source": [
    "## Model Testing\n",
    "ypred=ENCVmodel.predict(pf_xtest)"
   ]
  },
  {
   "cell_type": "code",
   "execution_count": 131,
   "metadata": {},
   "outputs": [
    {
     "name": "stdout",
     "output_type": "stream",
     "text": [
      "MSE : 897917.6716 \n",
      "MAE : 749.5335 \n",
      "RMSE : 947.5852 \n",
      "R2_score : 0.8728\n"
     ]
    }
   ],
   "source": [
    "## Model Evaluation\n",
    "from sklearn.metrics import mean_absolute_error,mean_squared_error,r2_score\n",
    "mae=mean_absolute_error(ytest,ypred).round(4)\n",
    "mse=mean_squared_error(ytest,ypred).round(4)\n",
    "rmse=np.sqrt(mse).round(4)\n",
    "r2_score=r2_score(ytest,ypred).round(4)\n",
    "print('MSE : {} \\nMAE : {} \\nRMSE : {} \\nR2_score : {}'.format(mse,mae,rmse,r2_score))"
   ]
  },
  {
   "cell_type": "markdown",
   "metadata": {},
   "source": [
    "#### Polynomial ElasticNetCV on scaled data\n"
   ]
  },
  {
   "cell_type": "code",
   "execution_count": 132,
   "metadata": {},
   "outputs": [
    {
     "data": {
      "text/plain": [
       "ElasticNetCV(alphas=[0.0001, 0.001, 0.01, 0.1, 1, 10], cv=5)"
      ]
     },
     "execution_count": 132,
     "metadata": {},
     "output_type": "execute_result"
    }
   ],
   "source": [
    "## Model Training on poly data\n",
    "ENCVmodel= ElasticNetCV(alphas=alpha,cv=5)\n",
    "ENCVmodel.fit(Psc_xtrain,ytrain)"
   ]
  },
  {
   "cell_type": "code",
   "execution_count": 133,
   "metadata": {},
   "outputs": [
    {
     "data": {
      "text/plain": [
       "0.01"
      ]
     },
     "execution_count": 133,
     "metadata": {},
     "output_type": "execute_result"
    }
   ],
   "source": [
    "## Checking best alpha\n",
    "ENCVmodel.alpha_"
   ]
  },
  {
   "cell_type": "code",
   "execution_count": 134,
   "metadata": {},
   "outputs": [],
   "source": [
    "## Model Testing\n",
    "ypred=ENCVmodel.predict(Psc_xtest)"
   ]
  },
  {
   "cell_type": "code",
   "execution_count": 135,
   "metadata": {},
   "outputs": [
    {
     "name": "stdout",
     "output_type": "stream",
     "text": [
      "MSE : 897455.4999 \n",
      "MAE : 754.395 \n",
      "RMSE : 947.3413 \n",
      "R2_score : 0.8728\n"
     ]
    }
   ],
   "source": [
    "## Model Evaluation\n",
    "from sklearn.metrics import mean_absolute_error,mean_squared_error,r2_score\n",
    "mae=mean_absolute_error(ytest,ypred).round(4)\n",
    "mse=mean_squared_error(ytest,ypred).round(4)\n",
    "rmse=np.sqrt(mse).round(4)\n",
    "r2_score=r2_score(ytest,ypred).round(4)\n",
    "print('MSE : {} \\nMAE : {} \\nRMSE : {} \\nR2_score : {}'.format(mse,mae,rmse,r2_score))"
   ]
  },
  {
   "cell_type": "markdown",
   "metadata": {},
   "source": [
    "## Final Evaluation"
   ]
  },
  {
   "cell_type": "code",
   "execution_count": 136,
   "metadata": {
    "scrolled": true
   },
   "outputs": [
    {
     "data": {
      "text/html": [
       "<div>\n",
       "<style scoped>\n",
       "    .dataframe tbody tr th:only-of-type {\n",
       "        vertical-align: middle;\n",
       "    }\n",
       "\n",
       "    .dataframe tbody tr th {\n",
       "        vertical-align: top;\n",
       "    }\n",
       "\n",
       "    .dataframe thead th {\n",
       "        text-align: right;\n",
       "    }\n",
       "</style>\n",
       "<table border=\"1\" class=\"dataframe\">\n",
       "  <thead>\n",
       "    <tr style=\"text-align: right;\">\n",
       "      <th></th>\n",
       "      <th>Regression_Models</th>\n",
       "      <th>Mean_Absolute_Error</th>\n",
       "      <th>Mean_Squared_Error</th>\n",
       "      <th>Root_Mean_Squared_Error</th>\n",
       "      <th>R2_score</th>\n",
       "    </tr>\n",
       "  </thead>\n",
       "  <tbody>\n",
       "    <tr>\n",
       "      <th>0</th>\n",
       "      <td>L_model</td>\n",
       "      <td>749.3032</td>\n",
       "      <td>9.396339e+05</td>\n",
       "      <td>969.3472</td>\n",
       "      <td>0.8669</td>\n",
       "    </tr>\n",
       "    <tr>\n",
       "      <th>1</th>\n",
       "      <td>L_sc_model</td>\n",
       "      <td>760.2874</td>\n",
       "      <td>9.537219e+05</td>\n",
       "      <td>976.5869</td>\n",
       "      <td>0.8649</td>\n",
       "    </tr>\n",
       "    <tr>\n",
       "      <th>2</th>\n",
       "      <td>P_model(D=3)</td>\n",
       "      <td>752.9795</td>\n",
       "      <td>1.120307e+06</td>\n",
       "      <td>1058.4456</td>\n",
       "      <td>0.8413</td>\n",
       "    </tr>\n",
       "    <tr>\n",
       "      <th>3</th>\n",
       "      <td>P_model(D=2)</td>\n",
       "      <td>745.5085</td>\n",
       "      <td>8.997919e+05</td>\n",
       "      <td>948.5262</td>\n",
       "      <td>0.8725</td>\n",
       "    </tr>\n",
       "    <tr>\n",
       "      <th>4</th>\n",
       "      <td>P_sc_model(D=2)</td>\n",
       "      <td>775.4388</td>\n",
       "      <td>9.552973e+05</td>\n",
       "      <td>977.3471</td>\n",
       "      <td>0.8647</td>\n",
       "    </tr>\n",
       "    <tr>\n",
       "      <th>5</th>\n",
       "      <td>L_ridge</td>\n",
       "      <td>749.3032</td>\n",
       "      <td>9.396342e+05</td>\n",
       "      <td>969.3473</td>\n",
       "      <td>0.8669</td>\n",
       "    </tr>\n",
       "    <tr>\n",
       "      <th>6</th>\n",
       "      <td>L_T_ridge</td>\n",
       "      <td>749.3032</td>\n",
       "      <td>9.396339e+05</td>\n",
       "      <td>969.3472</td>\n",
       "      <td>0.8669</td>\n",
       "    </tr>\n",
       "    <tr>\n",
       "      <th>7</th>\n",
       "      <td>P_ridge</td>\n",
       "      <td>745.5086</td>\n",
       "      <td>8.996875e+05</td>\n",
       "      <td>948.5186</td>\n",
       "      <td>0.8725</td>\n",
       "    </tr>\n",
       "    <tr>\n",
       "      <th>8</th>\n",
       "      <td>P_sc_ridge</td>\n",
       "      <td>764.1318</td>\n",
       "      <td>9.237168e+05</td>\n",
       "      <td>961.1019</td>\n",
       "      <td>0.8691</td>\n",
       "    </tr>\n",
       "    <tr>\n",
       "      <th>9</th>\n",
       "      <td>L_lasso</td>\n",
       "      <td>749.3016</td>\n",
       "      <td>9.396423e+05</td>\n",
       "      <td>969.3515</td>\n",
       "      <td>0.8669</td>\n",
       "    </tr>\n",
       "    <tr>\n",
       "      <th>10</th>\n",
       "      <td>L_sc_lasso</td>\n",
       "      <td>760.2765</td>\n",
       "      <td>9.537784e+05</td>\n",
       "      <td>976.6158</td>\n",
       "      <td>0.8649</td>\n",
       "    </tr>\n",
       "    <tr>\n",
       "      <th>11</th>\n",
       "      <td>L_T_lasso</td>\n",
       "      <td>749.3032</td>\n",
       "      <td>9.396339e+05</td>\n",
       "      <td>969.3472</td>\n",
       "      <td>0.8669</td>\n",
       "    </tr>\n",
       "    <tr>\n",
       "      <th>12</th>\n",
       "      <td>P_lasso</td>\n",
       "      <td>746.8621</td>\n",
       "      <td>8.985049e+05</td>\n",
       "      <td>947.8950</td>\n",
       "      <td>0.8727</td>\n",
       "    </tr>\n",
       "    <tr>\n",
       "      <th>13</th>\n",
       "      <td>P_sc_lasso</td>\n",
       "      <td>760.7430</td>\n",
       "      <td>9.103171e+05</td>\n",
       "      <td>954.1054</td>\n",
       "      <td>0.8710</td>\n",
       "    </tr>\n",
       "    <tr>\n",
       "      <th>14</th>\n",
       "      <td>P_T_lasso</td>\n",
       "      <td>746.7019</td>\n",
       "      <td>8.980568e+05</td>\n",
       "      <td>947.6586</td>\n",
       "      <td>0.8728</td>\n",
       "    </tr>\n",
       "    <tr>\n",
       "      <th>15</th>\n",
       "      <td>L_ENetCV</td>\n",
       "      <td>748.9790</td>\n",
       "      <td>9.411420e+05</td>\n",
       "      <td>970.1248</td>\n",
       "      <td>0.8667</td>\n",
       "    </tr>\n",
       "    <tr>\n",
       "      <th>16</th>\n",
       "      <td>L_sc_ENetCV</td>\n",
       "      <td>758.8568</td>\n",
       "      <td>9.534954e+05</td>\n",
       "      <td>976.4709</td>\n",
       "      <td>0.8649</td>\n",
       "    </tr>\n",
       "    <tr>\n",
       "      <th>17</th>\n",
       "      <td>P_ENetCV</td>\n",
       "      <td>749.5335</td>\n",
       "      <td>8.979177e+05</td>\n",
       "      <td>947.5852</td>\n",
       "      <td>0.8728</td>\n",
       "    </tr>\n",
       "    <tr>\n",
       "      <th>18</th>\n",
       "      <td>P_sc_ENetCV</td>\n",
       "      <td>754.3950</td>\n",
       "      <td>8.974555e+05</td>\n",
       "      <td>947.3413</td>\n",
       "      <td>0.8728</td>\n",
       "    </tr>\n",
       "  </tbody>\n",
       "</table>\n",
       "</div>"
      ],
      "text/plain": [
       "   Regression_Models  Mean_Absolute_Error  Mean_Squared_Error  \\\n",
       "0            L_model             749.3032        9.396339e+05   \n",
       "1         L_sc_model             760.2874        9.537219e+05   \n",
       "2       P_model(D=3)             752.9795        1.120307e+06   \n",
       "3       P_model(D=2)             745.5085        8.997919e+05   \n",
       "4    P_sc_model(D=2)             775.4388        9.552973e+05   \n",
       "5            L_ridge             749.3032        9.396342e+05   \n",
       "6          L_T_ridge             749.3032        9.396339e+05   \n",
       "7            P_ridge             745.5086        8.996875e+05   \n",
       "8         P_sc_ridge             764.1318        9.237168e+05   \n",
       "9            L_lasso             749.3016        9.396423e+05   \n",
       "10        L_sc_lasso             760.2765        9.537784e+05   \n",
       "11         L_T_lasso             749.3032        9.396339e+05   \n",
       "12           P_lasso             746.8621        8.985049e+05   \n",
       "13        P_sc_lasso             760.7430        9.103171e+05   \n",
       "14         P_T_lasso             746.7019        8.980568e+05   \n",
       "15          L_ENetCV             748.9790        9.411420e+05   \n",
       "16       L_sc_ENetCV             758.8568        9.534954e+05   \n",
       "17          P_ENetCV             749.5335        8.979177e+05   \n",
       "18       P_sc_ENetCV             754.3950        8.974555e+05   \n",
       "\n",
       "    Root_Mean_Squared_Error  R2_score  \n",
       "0                  969.3472    0.8669  \n",
       "1                  976.5869    0.8649  \n",
       "2                 1058.4456    0.8413  \n",
       "3                  948.5262    0.8725  \n",
       "4                  977.3471    0.8647  \n",
       "5                  969.3473    0.8669  \n",
       "6                  969.3472    0.8669  \n",
       "7                  948.5186    0.8725  \n",
       "8                  961.1019    0.8691  \n",
       "9                  969.3515    0.8669  \n",
       "10                 976.6158    0.8649  \n",
       "11                 969.3472    0.8669  \n",
       "12                 947.8950    0.8727  \n",
       "13                 954.1054    0.8710  \n",
       "14                 947.6586    0.8728  \n",
       "15                 970.1248    0.8667  \n",
       "16                 976.4709    0.8649  \n",
       "17                 947.5852    0.8728  \n",
       "18                 947.3413    0.8728  "
      ]
     },
     "execution_count": 136,
     "metadata": {},
     "output_type": "execute_result"
    }
   ],
   "source": [
    "models=['L_model','L_sc_model','P_model(D=3)','P_model(D=2)','P_sc_model(D=2)','L_ridge','L_T_ridge','P_ridge',\n",
    "        'P_sc_ridge','L_lasso','L_sc_lasso','L_T_lasso','P_lasso','P_sc_lasso','P_T_lasso','L_ENetCV','L_sc_ENetCV',\n",
    "        'P_ENetCV','P_sc_ENetCV']\n",
    "\n",
    "mae=[749.3032,760.2874,752.9795,745.5085,775.4388,749.3032,749.3032,745.5086,764.1318,749.3016,760.2765,749.3032,746.8621,\n",
    "     760.743,746.7019,748.979,758.8568,749.5335,754.395]\n",
    "\n",
    "mse=[939633.8989,953721.8925,1120307.131,899791.8926,955297.3431,939634.2085,939633.8989, 899687.5461,923716.8367,\n",
    "     939642.3223,953778.382,939633.9073,898504.8679,910317.0543,898056.84,941142.035,953495.4443,\n",
    "     897917.6716,897455.4999]\n",
    "\n",
    "rmse=[969.3472,976.5869,1058.4456,948.5262,977.3471,969.3473,969.3472,948.5186,961.1019,969.3515,976.6158,969.3472,947.895,\n",
    "      954.1054,947.6586,970.1248,976.4709,947.5852,947.3413]\n",
    "\n",
    "r2_score=[0.8669,0.8649,0.8413,0.8725,0.8647,0.8669,0.8669,0.8725,0.8691,0.8669,0.8649,0.8669,0.8727,0.871,0.8728,0.8667,\n",
    "          0.8649,0.8728,0.8728]\n",
    "\n",
    "dict=({'Regression_Models':models,'Mean_Absolute_Error':mae,'Mean_Squared_Error':mse,'Root_Mean_Squared_Error':rmse,\n",
    "     'R2_score':r2_score})\n",
    "\n",
    "\n",
    "result=pd.DataFrame(dict)\n",
    "result"
   ]
  },
  {
   "cell_type": "markdown",
   "metadata": {},
   "source": [
    "Where\n",
    "               \n",
    "    L=Linear\n",
    "    P=Polynomial\n",
    "    T=Tuning\n",
    "    sc=Standard Scaler Data\n",
    "    ENEt=Elastic Net"
   ]
  },
  {
   "cell_type": "code",
   "execution_count": 137,
   "metadata": {},
   "outputs": [
    {
     "data": {
      "text/html": [
       "<div>\n",
       "<style scoped>\n",
       "    .dataframe tbody tr th:only-of-type {\n",
       "        vertical-align: middle;\n",
       "    }\n",
       "\n",
       "    .dataframe tbody tr th {\n",
       "        vertical-align: top;\n",
       "    }\n",
       "\n",
       "    .dataframe thead th {\n",
       "        text-align: right;\n",
       "    }\n",
       "</style>\n",
       "<table border=\"1\" class=\"dataframe\">\n",
       "  <thead>\n",
       "    <tr style=\"text-align: right;\">\n",
       "      <th></th>\n",
       "      <th>Regression_Models</th>\n",
       "      <th>R2_score</th>\n",
       "    </tr>\n",
       "  </thead>\n",
       "  <tbody>\n",
       "    <tr>\n",
       "      <th>0</th>\n",
       "      <td>L_model</td>\n",
       "      <td>0.8669</td>\n",
       "    </tr>\n",
       "    <tr>\n",
       "      <th>1</th>\n",
       "      <td>L_sc_model</td>\n",
       "      <td>0.8649</td>\n",
       "    </tr>\n",
       "    <tr>\n",
       "      <th>2</th>\n",
       "      <td>P_model(D=3)</td>\n",
       "      <td>0.8413</td>\n",
       "    </tr>\n",
       "    <tr>\n",
       "      <th>3</th>\n",
       "      <td>P_model(D=2)</td>\n",
       "      <td>0.8725</td>\n",
       "    </tr>\n",
       "    <tr>\n",
       "      <th>4</th>\n",
       "      <td>P_sc_model(D=2)</td>\n",
       "      <td>0.8647</td>\n",
       "    </tr>\n",
       "    <tr>\n",
       "      <th>5</th>\n",
       "      <td>L_ridge</td>\n",
       "      <td>0.8669</td>\n",
       "    </tr>\n",
       "    <tr>\n",
       "      <th>6</th>\n",
       "      <td>L_T_ridge</td>\n",
       "      <td>0.8669</td>\n",
       "    </tr>\n",
       "    <tr>\n",
       "      <th>7</th>\n",
       "      <td>P_ridge</td>\n",
       "      <td>0.8725</td>\n",
       "    </tr>\n",
       "    <tr>\n",
       "      <th>8</th>\n",
       "      <td>P_sc_ridge</td>\n",
       "      <td>0.8691</td>\n",
       "    </tr>\n",
       "    <tr>\n",
       "      <th>9</th>\n",
       "      <td>L_lasso</td>\n",
       "      <td>0.8669</td>\n",
       "    </tr>\n",
       "    <tr>\n",
       "      <th>10</th>\n",
       "      <td>L_sc_lasso</td>\n",
       "      <td>0.8649</td>\n",
       "    </tr>\n",
       "    <tr>\n",
       "      <th>11</th>\n",
       "      <td>L_T_lasso</td>\n",
       "      <td>0.8669</td>\n",
       "    </tr>\n",
       "    <tr>\n",
       "      <th>12</th>\n",
       "      <td>P_lasso</td>\n",
       "      <td>0.8727</td>\n",
       "    </tr>\n",
       "    <tr>\n",
       "      <th>13</th>\n",
       "      <td>P_sc_lasso</td>\n",
       "      <td>0.8710</td>\n",
       "    </tr>\n",
       "    <tr>\n",
       "      <th>14</th>\n",
       "      <td>P_T_lasso</td>\n",
       "      <td>0.8728</td>\n",
       "    </tr>\n",
       "    <tr>\n",
       "      <th>15</th>\n",
       "      <td>L_ENetCV</td>\n",
       "      <td>0.8667</td>\n",
       "    </tr>\n",
       "    <tr>\n",
       "      <th>16</th>\n",
       "      <td>L_sc_ENetCV</td>\n",
       "      <td>0.8649</td>\n",
       "    </tr>\n",
       "    <tr>\n",
       "      <th>17</th>\n",
       "      <td>P_ENetCV</td>\n",
       "      <td>0.8728</td>\n",
       "    </tr>\n",
       "    <tr>\n",
       "      <th>18</th>\n",
       "      <td>P_sc_ENetCV</td>\n",
       "      <td>0.8728</td>\n",
       "    </tr>\n",
       "  </tbody>\n",
       "</table>\n",
       "</div>"
      ],
      "text/plain": [
       "   Regression_Models  R2_score\n",
       "0            L_model    0.8669\n",
       "1         L_sc_model    0.8649\n",
       "2       P_model(D=3)    0.8413\n",
       "3       P_model(D=2)    0.8725\n",
       "4    P_sc_model(D=2)    0.8647\n",
       "5            L_ridge    0.8669\n",
       "6          L_T_ridge    0.8669\n",
       "7            P_ridge    0.8725\n",
       "8         P_sc_ridge    0.8691\n",
       "9            L_lasso    0.8669\n",
       "10        L_sc_lasso    0.8649\n",
       "11         L_T_lasso    0.8669\n",
       "12           P_lasso    0.8727\n",
       "13        P_sc_lasso    0.8710\n",
       "14         P_T_lasso    0.8728\n",
       "15          L_ENetCV    0.8667\n",
       "16       L_sc_ENetCV    0.8649\n",
       "17          P_ENetCV    0.8728\n",
       "18       P_sc_ENetCV    0.8728"
      ]
     },
     "execution_count": 137,
     "metadata": {},
     "output_type": "execute_result"
    }
   ],
   "source": [
    "dictt=({'Regression_Models':models,'R2_score':r2_score})\n",
    "result=pd.DataFrame(dictt)\n",
    "result"
   ]
  },
  {
   "cell_type": "markdown",
   "metadata": {},
   "source": [
    "#### Max accuracy"
   ]
  },
  {
   "cell_type": "code",
   "execution_count": 138,
   "metadata": {},
   "outputs": [
    {
     "name": "stdout",
     "output_type": "stream",
     "text": [
      "   Regression_Models  R2_score\n",
      "14         P_T_lasso    0.8728\n",
      "17          P_ENetCV    0.8728\n",
      "18       P_sc_ENetCV    0.8728\n"
     ]
    }
   ],
   "source": [
    "print(result[result['R2_score']==result['R2_score'].max()])"
   ]
  },
  {
   "cell_type": "markdown",
   "metadata": {},
   "source": [
    "#### Min Accuracy"
   ]
  },
  {
   "cell_type": "code",
   "execution_count": 139,
   "metadata": {},
   "outputs": [
    {
     "name": "stdout",
     "output_type": "stream",
     "text": [
      "  Regression_Models  R2_score\n",
      "2      P_model(D=3)    0.8413\n"
     ]
    }
   ],
   "source": [
    "print(result[result['R2_score']==result['R2_score'].min()])"
   ]
  },
  {
   "cell_type": "markdown",
   "metadata": {},
   "source": [
    "#### Line plot of r2 score vs Regression models\n"
   ]
  },
  {
   "cell_type": "code",
   "execution_count": 140,
   "metadata": {},
   "outputs": [
    {
     "data": {
      "text/plain": [
       "Text(0.5, 1.0, 'Regression_model vs Accuracy')"
      ]
     },
     "execution_count": 140,
     "metadata": {},
     "output_type": "execute_result"
    },
    {
     "data": {
      "image/png": "[encoded data removed]",
      "text/plain": [
       "<Figure size 864x432 with 1 Axes>"
      ]
     },
     "metadata": {
      "needs_background": "light"
     },
     "output_type": "display_data"
    }
   ],
   "source": [
    "x=result['Regression_Models']\n",
    "y=result['R2_score']\n",
    "plt.figure(figsize=(12,6))\n",
    "sns.lineplot(x,y,marker='o')\n",
    "plt.xticks(rotation='vertical')\n",
    "plt.title('Regression_model vs Accuracy')"
   ]
  },
  {
   "cell_type": "markdown",
   "metadata": {},
   "source": []
  },
  {
   "cell_type": "markdown",
   "metadata": {},
   "source": [
    "## Conclusion"
   ]
  },
  {
   "cell_type": "markdown",
   "metadata": {},
   "source": [
    "#### Top 3 Models which gives High r2_score\n",
    "\n",
    "1.Polynomial Tuned Lasso,Polynomial ElasticNet CV,Polynomial Scaled ElasticNetCV these are the top regression models which gives maximum score of 0.8728.\n",
    "\n",
    "2.Polynomial Lasso is the 2nd highest scoring model having accuracy 0.8727.\n",
    "\n",
    "3.Polynomial with Degree 2 and Polynomial Ridge are the 3rd highest scoring model having score 0.8725.\n",
    "\n",
    " So we can Say that above models are good fit for our data.\n",
    "\n",
    "\n",
    "#### Models which gives lowest r2_score\n",
    "\n",
    "1.Polynomial model with degree 3 having lowest score of 0.8413.\n",
    "\n",
    "2.There are some model which gives negative score also.They are Polynomial Tuning Ridge,Linear scaled Ridge,Polynomial       Scaled having score -1.395779574452548e+34,-22.3743,-11.3897 respectively.\n",
    "\n",
    "#### Learned so many new thing through this skill activity.\n"
   ]
  },
  {
   "cell_type": "code",
   "execution_count": null,
   "metadata": {},
   "outputs": [],
   "source": []
  }
 ],
 "metadata": {
  "kernelspec": {
   "display_name": "Python 3",
   "language": "python",
   "name": "python3"
  },
  "language_info": {
   "codemirror_mode": {
    "name": "ipython",
    "version": 3
   },
   "file_extension": ".py",
   "mimetype": "text/x-python",
   "name": "python",
   "nbconvert_exporter": "python",
   "pygments_lexer": "ipython3",
   "version": "3.8.5"
  }
 },
 "nbformat": 4,
 "nbformat_minor": 4
}
